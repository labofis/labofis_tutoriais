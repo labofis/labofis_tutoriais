{
 "cells": [
  {
   "cell_type": "markdown",
   "metadata": {
    "id": "CIUBvWtWbf8m"
   },
   "source": [
    "# Tutorial 2: Medição da temperatura da superfície do mar - comparando métodos *in situ* e por satelites"
   ]
  },
  {
   "cell_type": "markdown",
   "metadata": {
    "id": "mQk4GFQObf8n"
   },
   "source": [
    "### Importando bibliotecas"
   ]
  },
  {
   "cell_type": "code",
   "execution_count": 1,
   "metadata": {
    "id": "fSvJ4jrQbf8o"
   },
   "outputs": [],
   "source": [
    "import matplotlib.pyplot as plt            # Plotting library\n",
    "from datetime import datetime, timedelta   # Basic date and time types\n",
    "import numpy as np                         # Import the Numpy package\n",
    "import matplotlib.colors                   # Matplotlib colors\n",
    "from datetime import datetime, timedelta   # Basic Dates and time types\n",
    "import os                                  # Miscellaneous operating system interfaces\n",
    "import time as t                           # Time access and conversion\n",
    "import xarray as xr"
   ]
  },
  {
   "cell_type": "code",
   "execution_count": 2,
   "metadata": {
    "id": "45dFnitIbrSu"
   },
   "outputs": [
    {
     "name": "stdout",
     "output_type": "stream",
     "text": [
      "Requirement already satisfied: netCDF4 in /home/epassos/miniconda3/envs/labofis/lib/python3.11/site-packages (1.7.2)\n",
      "Requirement already satisfied: cftime in /home/epassos/miniconda3/envs/labofis/lib/python3.11/site-packages (from netCDF4) (1.6.4)\n",
      "Requirement already satisfied: certifi in /home/epassos/miniconda3/envs/labofis/lib/python3.11/site-packages (from netCDF4) (2024.12.14)\n",
      "Requirement already satisfied: numpy in /home/epassos/miniconda3/envs/labofis/lib/python3.11/site-packages (from netCDF4) (2.2.2)\n",
      "Requirement already satisfied: cartopy in /home/epassos/miniconda3/envs/labofis/lib/python3.11/site-packages (0.24.0)\n",
      "Requirement already satisfied: numpy>=1.23 in /home/epassos/miniconda3/envs/labofis/lib/python3.11/site-packages (from cartopy) (2.2.2)\n",
      "Requirement already satisfied: matplotlib>=3.6 in /home/epassos/miniconda3/envs/labofis/lib/python3.11/site-packages (from cartopy) (3.10.0)\n",
      "Requirement already satisfied: shapely>=1.8 in /home/epassos/miniconda3/envs/labofis/lib/python3.11/site-packages (from cartopy) (2.0.7)\n",
      "Requirement already satisfied: packaging>=21 in /home/epassos/miniconda3/envs/labofis/lib/python3.11/site-packages (from cartopy) (24.2)\n",
      "Requirement already satisfied: pyshp>=2.3 in /home/epassos/miniconda3/envs/labofis/lib/python3.11/site-packages (from cartopy) (2.3.1)\n",
      "Requirement already satisfied: pyproj>=3.3.1 in /home/epassos/miniconda3/envs/labofis/lib/python3.11/site-packages (from cartopy) (3.7.0)\n",
      "Requirement already satisfied: contourpy>=1.0.1 in /home/epassos/miniconda3/envs/labofis/lib/python3.11/site-packages (from matplotlib>=3.6->cartopy) (1.3.1)\n",
      "Requirement already satisfied: cycler>=0.10 in /home/epassos/miniconda3/envs/labofis/lib/python3.11/site-packages (from matplotlib>=3.6->cartopy) (0.12.1)\n",
      "Requirement already satisfied: fonttools>=4.22.0 in /home/epassos/miniconda3/envs/labofis/lib/python3.11/site-packages (from matplotlib>=3.6->cartopy) (4.55.8)\n",
      "Requirement already satisfied: kiwisolver>=1.3.1 in /home/epassos/miniconda3/envs/labofis/lib/python3.11/site-packages (from matplotlib>=3.6->cartopy) (1.4.7)\n",
      "Requirement already satisfied: pillow>=8 in /home/epassos/miniconda3/envs/labofis/lib/python3.11/site-packages (from matplotlib>=3.6->cartopy) (11.1.0)\n",
      "Requirement already satisfied: pyparsing>=2.3.1 in /home/epassos/miniconda3/envs/labofis/lib/python3.11/site-packages (from matplotlib>=3.6->cartopy) (3.2.1)\n",
      "Requirement already satisfied: python-dateutil>=2.7 in /home/epassos/miniconda3/envs/labofis/lib/python3.11/site-packages (from matplotlib>=3.6->cartopy) (2.9.0.post0)\n",
      "Requirement already satisfied: certifi in /home/epassos/miniconda3/envs/labofis/lib/python3.11/site-packages (from pyproj>=3.3.1->cartopy) (2024.12.14)\n",
      "Requirement already satisfied: six>=1.5 in /home/epassos/miniconda3/envs/labofis/lib/python3.11/site-packages (from python-dateutil>=2.7->matplotlib>=3.6->cartopy) (1.17.0)\n",
      "Requirement already satisfied: noaa-ftp in /home/epassos/miniconda3/envs/labofis/lib/python3.11/site-packages (0.1.11)\n",
      "Requirement already satisfied: progressbar2<5.0.0,>=4.0.0 in /home/epassos/miniconda3/envs/labofis/lib/python3.11/site-packages (from noaa-ftp) (4.5.0)\n",
      "Requirement already satisfied: python-utils>=3.8.1 in /home/epassos/miniconda3/envs/labofis/lib/python3.11/site-packages (from progressbar2<5.0.0,>=4.0.0->noaa-ftp) (3.9.1)\n",
      "Requirement already satisfied: typing_extensions>3.10.0.2 in /home/epassos/miniconda3/envs/labofis/lib/python3.11/site-packages (from python-utils>=3.8.1->progressbar2<5.0.0,>=4.0.0->noaa-ftp) (4.12.2)\n",
      "Requirement already satisfied: cftime in /home/epassos/miniconda3/envs/labofis/lib/python3.11/site-packages (1.6.4)\n",
      "Requirement already satisfied: numpy>1.13.3 in /home/epassos/miniconda3/envs/labofis/lib/python3.11/site-packages (from cftime) (2.2.2)\n",
      "Requirement already satisfied: xarray in /home/epassos/miniconda3/envs/labofis/lib/python3.11/site-packages (2025.1.2)\n",
      "Requirement already satisfied: cftime in /home/epassos/miniconda3/envs/labofis/lib/python3.11/site-packages (1.6.4)\n",
      "Collecting cftime\n",
      "  Downloading cftime-1.6.4.post1-cp311-cp311-manylinux_2_17_x86_64.manylinux2014_x86_64.whl.metadata (8.7 kB)\n",
      "Requirement already satisfied: numpy>=1.24 in /home/epassos/miniconda3/envs/labofis/lib/python3.11/site-packages (from xarray) (2.2.2)\n",
      "Requirement already satisfied: packaging>=23.2 in /home/epassos/miniconda3/envs/labofis/lib/python3.11/site-packages (from xarray) (24.2)\n",
      "Requirement already satisfied: pandas>=2.1 in /home/epassos/miniconda3/envs/labofis/lib/python3.11/site-packages (from xarray) (2.2.3)\n",
      "Requirement already satisfied: python-dateutil>=2.8.2 in /home/epassos/miniconda3/envs/labofis/lib/python3.11/site-packages (from pandas>=2.1->xarray) (2.9.0.post0)\n",
      "Requirement already satisfied: pytz>=2020.1 in /home/epassos/miniconda3/envs/labofis/lib/python3.11/site-packages (from pandas>=2.1->xarray) (2024.1)\n",
      "Requirement already satisfied: tzdata>=2022.7 in /home/epassos/miniconda3/envs/labofis/lib/python3.11/site-packages (from pandas>=2.1->xarray) (2025.1)\n",
      "Requirement already satisfied: six>=1.5 in /home/epassos/miniconda3/envs/labofis/lib/python3.11/site-packages (from python-dateutil>=2.8.2->pandas>=2.1->xarray) (1.17.0)\n",
      "Downloading cftime-1.6.4.post1-cp311-cp311-manylinux_2_17_x86_64.manylinux2014_x86_64.whl (1.4 MB)\n",
      "\u001b[2K   \u001b[90m━━━━━━━━━━━━━━━━━━━━━━━━━━━━━━━━━━━━━━━━\u001b[0m \u001b[32m1.4/1.4 MB\u001b[0m \u001b[31m1.9 MB/s\u001b[0m eta \u001b[36m0:00:00\u001b[0ma \u001b[36m0:00:01\u001b[0m\n",
      "\u001b[?25hInstalling collected packages: cftime\n",
      "  Attempting uninstall: cftime\n",
      "    Found existing installation: cftime 1.6.4\n",
      "    Uninstalling cftime-1.6.4:\n",
      "      Successfully uninstalled cftime-1.6.4\n",
      "Successfully installed cftime-1.6.4.post1\n"
     ]
    }
   ],
   "source": [
    "!pip install netCDF4\n",
    "from netCDF4 import Dataset\n",
    "\n",
    "!pip install cartopy\n",
    "import cartopy, cartopy.crs as ccrs        # Plot maps\n",
    "import cartopy.feature as cfeature         # Common drawing and filtering operations\n",
    "import cartopy.io.shapereader as shpreader # Import shapefiles\n",
    "\n",
    "\n",
    "!pip install cftime\n",
    "import cftime\n",
    "\n",
    "import cftime\n",
    "import xarray as xr\n",
    "!pip install --upgrade xarray cftime"
   ]
  },
  {
   "cell_type": "markdown",
   "metadata": {
    "id": "cgd6Yrcfbf8o"
   },
   "source": [
    "### Definindo funções\n"
   ]
  },
  {
   "cell_type": "code",
   "execution_count": 3,
   "metadata": {
    "id": "HuUdg4zlbf8p"
   },
   "outputs": [],
   "source": [
    "def pirata(nome_arquivo, date_formatted, data, plot):\n",
    "    # Read the buoy data\n",
    "    boia1 = xr.open_dataset(nome_arquivo, use_cftime=True)\n",
    "    try:\n",
    "        data_selecionada = boia1.sel(time=date_formatted, method='nearest')\n",
    "    except:\n",
    "        data_selecionada = boia1.sel(time=date_formatted)\n",
    "    temp_buoy = [np.nan if data_selecionada.temperature.sel(depth_t=0, method='nearest').values.round(2) == -9999.0 else data_selecionada.temperature.sel(depth_t=0, method='nearest').values.round(2)]\n",
    "    lon_buoy  = data_selecionada.longitude.values - 360\n",
    "    lat_buoy  = data_selecionada.latitude.values\n",
    "\n",
    "    temp_sat = data.sel(lat=lat_buoy, lon=lon_buoy, method='nearest').values\n",
    "\n",
    "    delta = temp_sat - temp_buoy\n",
    "\n",
    "    if plot == 'sim':\n",
    "        # Adding Annotations\n",
    "        ax.plot(lon_buoy, lat_buoy, 'o', color='red', markersize=8, transform=ccrs.Geodetic(), markeredgewidth=1.0, markeredgecolor=(0, 0, 0, 1))\n",
    "        text = \"Lat: \" + str(lat_buoy.round(2)) + \"\\n\" + \"Lon: \" + str(lon_buoy.round(2)) + \"\\n\" + \"Satellite: \" + str(temp_sat) + \" °C\" + \"\\n\" + \"Buoy: \" + str(temp_buoy) + \" °C\" + \"\\n\" + \"\\u0394 = \"  + str(delta.round(4)) + \" °C\"\n",
    "        plt.annotate(text, xy=(int(lon_buoy + txt_offset_x), int(lat_buoy + txt_offset_y)), xycoords=ccrs.PlateCarree()._as_mpl_transform(ax), fontsize=12, fontweight='bold', color='gold', bbox=dict(boxstyle=\"round\",fc=(0.0, 0.0, 0.0, 0.5), ec=(1., 1., 1.)), alpha = 1.0)\n",
    "    else:\n",
    "        print('Temepratura boia: ', np.round(temp_buoy[0],2))\n",
    "        print('Temepratura satélite: ', np.round(temp_sat,2))\n",
    "        print('Diferença: ',np.round(delta[0],2))"
   ]
  },
  {
   "cell_type": "markdown",
   "metadata": {
    "id": "nOBkaY0pbf8p"
   },
   "source": [
    "### Objetivos do Tutorial\n",
    "\n",
    "Neste tutorial, você aprenderá a obter dados da temperatura da superfície do mar (TSM) de forma prática e eficiente. Usaremos a biblioteca noaa_ftp para fazer o download dos dados diretamente do site da [NOAA](https://www.noaa.gov/). Além disso, você acessará dados de boias do Projeto PIRATA, realizará uma comparação entre as temperaturas obtidas por satélite e as medições in situ, e criará uma visualização gráfica dessas informações. Os objetivos específicos são:\n",
    "\n",
    "1. Baixar dados de TSM do site da NOAA utilizando a biblioteca `noaa_ftp`.\n",
    "2. Obter dados de boias do Projeto PIRATA\n",
    "3. Comparar as temperaturas de TSM entre os dados de satélite e as medições *in situ* das boias.\n",
    "4. Plotar uma figura espacial do Atlântico Equatorial com a comparação das diferentes fontes de dados.\n",
    "\n",
    "Ao concluir este tutorial, você estará apto a identificar e analisar as diferenças entre as medições diretas e indiretas da TSM."
   ]
  },
  {
   "cell_type": "markdown",
   "metadata": {
    "id": "cFTNiHbvbf8p"
   },
   "source": [
    "### Oceanografia por Satélite: Avanços e Importância\n",
    "\n",
    "A oceanografia por satélite revolucionou a forma como estudamos e compreendemos os oceanos. Utilizando sensores remotos a bordo de satélites, os cientistas conseguem monitorar vastas áreas oceânicas em tempo real, algo que seria impossível apenas com medições in situ. Essa tecnologia tem permitido avanços significativos em diversas áreas, como a climatologia, a modelagem de correntes oceânicas, e a previsão de fenômenos extremos como furacões e tsunamis.\n",
    "\n",
    "Avanços Provocados pela Oceanografia por Satélite\n",
    "\n",
    " - Monitoramento Global e Contínuo: A capacidade de observar os oceanos de forma contínua e em escala global é um dos maiores avanços. Isso permite que os cientistas acompanhem mudanças sazonais e a longo prazo, contribuindo para o entendimento das dinâmicas oceânicas e seus impactos no clima global.\n",
    "\n",
    " - Modelagem de Correntes e Dinâmicas Oceânicas: Dados de satélite ajudam na modelagem precisa de correntes oceânicas, como a Corrente do Golfo\n",
    "\n",
    " - Previsão do ENSO: os dados de satélite são muito utilizados para compreender, inferir e até mesmo prever eventos como El Niño e La Niña.\n",
    "\n",
    " - Monitoramento da Saúde dos Oceanos: Sensores de satélite permitem a análise da saúde dos oceanos através da medição de parâmetros como a clorofila-a, que indica a produtividade biológica e a presença de algas marinhas."
   ]
  },
  {
   "cell_type": "markdown",
   "metadata": {
    "id": "2Of4bKjXbf8p"
   },
   "source": [
    "#### Seção 1: Temperatura da Superfície do Mar (TSM)\n",
    "\n",
    "Uma das aplicações mais importantes da oceanografia por satélite é a medição da temperatura da superfície do mar (TSM). Esta informação é crucial para o entendimento das interações entre o oceano e a atmosfera, influenciando previsões climáticas e meteorológicas.\n",
    "\n",
    "A TSM é obtida através de radiômetros de infravermelho e micro-ondas a bordo de satélites. Esses sensores detectam a radiação emitida pela superfície do oceano, que é então convertida em valores de temperatura. A TSM é um dos principais fatores na previsão de ciclones tropicais, correntes oceânicas e eventos climáticos globais como ENSO. Além disso, mudanças na SST são indicadores-chave das mudanças climáticas.\n",
    "\n",
    "O projeto [Coral Reef Watch](https://coralreefwatch.noaa.gov/product/5km/index_5km_ssta.php) (CRW) da NOAA fornece um conjunto de produtos diários globais de TSM em uma resolução de 5 km, conhecido como CoralTemp, abrangendo desde 1985 até o presente. Esses produtos são essenciais para o monitoramento do estresse térmico relacionado ao branqueamento de corais, especialmente em regiões com alta variabilidade térmica. A v3.1 foi desenvolvida para corrigir erros em dados anteriores e agora permite o monitoramento direto de 95% dos recifes de corais globais, reduzindo lacunas de dados causadas pela cobertura de nuvens.\n",
    "\n",
    "Entre os produtos oferecidos estão a TSM, Anomalia de TSM, HotSpot de Branqueamento de Corais, e a Tendência de TSM de 7 dias. O produto de Tendência de TSM, por exemplo, analisa a variação da TSM ao longo de sete dias, identificando tendências significativas que podem indicar estresse térmico em corais. Esses dados são atualizados diariamente, proporcionando informações críticas para a gestão de recifes de corais e a previsão de eventos de branqueamento."
   ]
  },
  {
   "cell_type": "code",
   "execution_count": 22,
   "metadata": {
    "id": "eby4G5XEbf8q"
   },
   "outputs": [
    {
     "ename": "OSError",
     "evalue": "[Errno -75] NetCDF: Malformed or unexpected Constraint: 'https://github.com/labofis/labofis_tutoriais/coraltemp_v3.1_20220409.nc?raw=true'",
     "output_type": "error",
     "traceback": [
      "\u001b[0;31m---------------------------------------------------------------------------\u001b[0m",
      "\u001b[0;31mKeyError\u001b[0m                                  Traceback (most recent call last)",
      "File \u001b[0;32m~/miniconda3/envs/labofis/lib/python3.11/site-packages/xarray/backends/file_manager.py:211\u001b[0m, in \u001b[0;36mCachingFileManager._acquire_with_cache_info\u001b[0;34m(self, needs_lock)\u001b[0m\n\u001b[1;32m    210\u001b[0m \u001b[38;5;28;01mtry\u001b[39;00m:\n\u001b[0;32m--> 211\u001b[0m     file \u001b[38;5;241m=\u001b[39m \u001b[38;5;28;43mself\u001b[39;49m\u001b[38;5;241;43m.\u001b[39;49m\u001b[43m_cache\u001b[49m\u001b[43m[\u001b[49m\u001b[38;5;28;43mself\u001b[39;49m\u001b[38;5;241;43m.\u001b[39;49m\u001b[43m_key\u001b[49m\u001b[43m]\u001b[49m\n\u001b[1;32m    212\u001b[0m \u001b[38;5;28;01mexcept\u001b[39;00m \u001b[38;5;167;01mKeyError\u001b[39;00m:\n",
      "File \u001b[0;32m~/miniconda3/envs/labofis/lib/python3.11/site-packages/xarray/backends/lru_cache.py:56\u001b[0m, in \u001b[0;36mLRUCache.__getitem__\u001b[0;34m(self, key)\u001b[0m\n\u001b[1;32m     55\u001b[0m \u001b[38;5;28;01mwith\u001b[39;00m \u001b[38;5;28mself\u001b[39m\u001b[38;5;241m.\u001b[39m_lock:\n\u001b[0;32m---> 56\u001b[0m     value \u001b[38;5;241m=\u001b[39m \u001b[38;5;28;43mself\u001b[39;49m\u001b[38;5;241;43m.\u001b[39;49m\u001b[43m_cache\u001b[49m\u001b[43m[\u001b[49m\u001b[43mkey\u001b[49m\u001b[43m]\u001b[49m\n\u001b[1;32m     57\u001b[0m     \u001b[38;5;28mself\u001b[39m\u001b[38;5;241m.\u001b[39m_cache\u001b[38;5;241m.\u001b[39mmove_to_end(key)\n",
      "\u001b[0;31mKeyError\u001b[0m: [<class 'netCDF4._netCDF4.Dataset'>, ('https://github.com/labofis/labofis_tutoriais/coraltemp_v3.1_20220409.nc?raw=true',), 'r', (('clobber', True), ('diskless', False), ('format', 'NETCDF4'), ('persist', False)), '3f3c63c3-44e7-4bed-8156-7944e8496a4c']",
      "\nDuring handling of the above exception, another exception occurred:\n",
      "\u001b[0;31mOSError\u001b[0m                                   Traceback (most recent call last)",
      "Cell \u001b[0;32mIn[22], line 1\u001b[0m\n\u001b[0;32m----> 1\u001b[0m ds \u001b[38;5;241m=\u001b[39m \u001b[43mxr\u001b[49m\u001b[38;5;241;43m.\u001b[39;49m\u001b[43mopen_dataset\u001b[49m\u001b[43m(\u001b[49m\u001b[43mfile_name\u001b[49m\u001b[43m)\u001b[49m\n\u001b[1;32m      2\u001b[0m ds\n",
      "File \u001b[0;32m~/miniconda3/envs/labofis/lib/python3.11/site-packages/xarray/backends/api.py:686\u001b[0m, in \u001b[0;36mopen_dataset\u001b[0;34m(filename_or_obj, engine, chunks, cache, decode_cf, mask_and_scale, decode_times, decode_timedelta, use_cftime, concat_characters, decode_coords, drop_variables, inline_array, chunked_array_type, from_array_kwargs, backend_kwargs, **kwargs)\u001b[0m\n\u001b[1;32m    674\u001b[0m decoders \u001b[38;5;241m=\u001b[39m _resolve_decoders_kwargs(\n\u001b[1;32m    675\u001b[0m     decode_cf,\n\u001b[1;32m    676\u001b[0m     open_backend_dataset_parameters\u001b[38;5;241m=\u001b[39mbackend\u001b[38;5;241m.\u001b[39mopen_dataset_parameters,\n\u001b[0;32m   (...)\u001b[0m\n\u001b[1;32m    682\u001b[0m     decode_coords\u001b[38;5;241m=\u001b[39mdecode_coords,\n\u001b[1;32m    683\u001b[0m )\n\u001b[1;32m    685\u001b[0m overwrite_encoded_chunks \u001b[38;5;241m=\u001b[39m kwargs\u001b[38;5;241m.\u001b[39mpop(\u001b[38;5;124m\"\u001b[39m\u001b[38;5;124moverwrite_encoded_chunks\u001b[39m\u001b[38;5;124m\"\u001b[39m, \u001b[38;5;28;01mNone\u001b[39;00m)\n\u001b[0;32m--> 686\u001b[0m backend_ds \u001b[38;5;241m=\u001b[39m \u001b[43mbackend\u001b[49m\u001b[38;5;241;43m.\u001b[39;49m\u001b[43mopen_dataset\u001b[49m\u001b[43m(\u001b[49m\n\u001b[1;32m    687\u001b[0m \u001b[43m    \u001b[49m\u001b[43mfilename_or_obj\u001b[49m\u001b[43m,\u001b[49m\n\u001b[1;32m    688\u001b[0m \u001b[43m    \u001b[49m\u001b[43mdrop_variables\u001b[49m\u001b[38;5;241;43m=\u001b[39;49m\u001b[43mdrop_variables\u001b[49m\u001b[43m,\u001b[49m\n\u001b[1;32m    689\u001b[0m \u001b[43m    \u001b[49m\u001b[38;5;241;43m*\u001b[39;49m\u001b[38;5;241;43m*\u001b[39;49m\u001b[43mdecoders\u001b[49m\u001b[43m,\u001b[49m\n\u001b[1;32m    690\u001b[0m \u001b[43m    \u001b[49m\u001b[38;5;241;43m*\u001b[39;49m\u001b[38;5;241;43m*\u001b[39;49m\u001b[43mkwargs\u001b[49m\u001b[43m,\u001b[49m\n\u001b[1;32m    691\u001b[0m \u001b[43m\u001b[49m\u001b[43m)\u001b[49m\n\u001b[1;32m    692\u001b[0m ds \u001b[38;5;241m=\u001b[39m _dataset_from_backend_dataset(\n\u001b[1;32m    693\u001b[0m     backend_ds,\n\u001b[1;32m    694\u001b[0m     filename_or_obj,\n\u001b[0;32m   (...)\u001b[0m\n\u001b[1;32m    704\u001b[0m     \u001b[38;5;241m*\u001b[39m\u001b[38;5;241m*\u001b[39mkwargs,\n\u001b[1;32m    705\u001b[0m )\n\u001b[1;32m    706\u001b[0m \u001b[38;5;28;01mreturn\u001b[39;00m ds\n",
      "File \u001b[0;32m~/miniconda3/envs/labofis/lib/python3.11/site-packages/xarray/backends/netCDF4_.py:666\u001b[0m, in \u001b[0;36mNetCDF4BackendEntrypoint.open_dataset\u001b[0;34m(self, filename_or_obj, mask_and_scale, decode_times, concat_characters, decode_coords, drop_variables, use_cftime, decode_timedelta, group, mode, format, clobber, diskless, persist, auto_complex, lock, autoclose)\u001b[0m\n\u001b[1;32m    644\u001b[0m \u001b[38;5;28;01mdef\u001b[39;00m\u001b[38;5;250m \u001b[39m\u001b[38;5;21mopen_dataset\u001b[39m(\n\u001b[1;32m    645\u001b[0m     \u001b[38;5;28mself\u001b[39m,\n\u001b[1;32m    646\u001b[0m     filename_or_obj: \u001b[38;5;28mstr\u001b[39m \u001b[38;5;241m|\u001b[39m os\u001b[38;5;241m.\u001b[39mPathLike[Any] \u001b[38;5;241m|\u001b[39m ReadBuffer \u001b[38;5;241m|\u001b[39m AbstractDataStore,\n\u001b[0;32m   (...)\u001b[0m\n\u001b[1;32m    663\u001b[0m     autoclose\u001b[38;5;241m=\u001b[39m\u001b[38;5;28;01mFalse\u001b[39;00m,\n\u001b[1;32m    664\u001b[0m ) \u001b[38;5;241m-\u001b[39m\u001b[38;5;241m>\u001b[39m Dataset:\n\u001b[1;32m    665\u001b[0m     filename_or_obj \u001b[38;5;241m=\u001b[39m _normalize_path(filename_or_obj)\n\u001b[0;32m--> 666\u001b[0m     store \u001b[38;5;241m=\u001b[39m \u001b[43mNetCDF4DataStore\u001b[49m\u001b[38;5;241;43m.\u001b[39;49m\u001b[43mopen\u001b[49m\u001b[43m(\u001b[49m\n\u001b[1;32m    667\u001b[0m \u001b[43m        \u001b[49m\u001b[43mfilename_or_obj\u001b[49m\u001b[43m,\u001b[49m\n\u001b[1;32m    668\u001b[0m \u001b[43m        \u001b[49m\u001b[43mmode\u001b[49m\u001b[38;5;241;43m=\u001b[39;49m\u001b[43mmode\u001b[49m\u001b[43m,\u001b[49m\n\u001b[1;32m    669\u001b[0m \u001b[43m        \u001b[49m\u001b[38;5;28;43mformat\u001b[39;49m\u001b[38;5;241;43m=\u001b[39;49m\u001b[38;5;28;43mformat\u001b[39;49m\u001b[43m,\u001b[49m\n\u001b[1;32m    670\u001b[0m \u001b[43m        \u001b[49m\u001b[43mgroup\u001b[49m\u001b[38;5;241;43m=\u001b[39;49m\u001b[43mgroup\u001b[49m\u001b[43m,\u001b[49m\n\u001b[1;32m    671\u001b[0m \u001b[43m        \u001b[49m\u001b[43mclobber\u001b[49m\u001b[38;5;241;43m=\u001b[39;49m\u001b[43mclobber\u001b[49m\u001b[43m,\u001b[49m\n\u001b[1;32m    672\u001b[0m \u001b[43m        \u001b[49m\u001b[43mdiskless\u001b[49m\u001b[38;5;241;43m=\u001b[39;49m\u001b[43mdiskless\u001b[49m\u001b[43m,\u001b[49m\n\u001b[1;32m    673\u001b[0m \u001b[43m        \u001b[49m\u001b[43mpersist\u001b[49m\u001b[38;5;241;43m=\u001b[39;49m\u001b[43mpersist\u001b[49m\u001b[43m,\u001b[49m\n\u001b[1;32m    674\u001b[0m \u001b[43m        \u001b[49m\u001b[43mauto_complex\u001b[49m\u001b[38;5;241;43m=\u001b[39;49m\u001b[43mauto_complex\u001b[49m\u001b[43m,\u001b[49m\n\u001b[1;32m    675\u001b[0m \u001b[43m        \u001b[49m\u001b[43mlock\u001b[49m\u001b[38;5;241;43m=\u001b[39;49m\u001b[43mlock\u001b[49m\u001b[43m,\u001b[49m\n\u001b[1;32m    676\u001b[0m \u001b[43m        \u001b[49m\u001b[43mautoclose\u001b[49m\u001b[38;5;241;43m=\u001b[39;49m\u001b[43mautoclose\u001b[49m\u001b[43m,\u001b[49m\n\u001b[1;32m    677\u001b[0m \u001b[43m    \u001b[49m\u001b[43m)\u001b[49m\n\u001b[1;32m    679\u001b[0m     store_entrypoint \u001b[38;5;241m=\u001b[39m StoreBackendEntrypoint()\n\u001b[1;32m    680\u001b[0m     \u001b[38;5;28;01mwith\u001b[39;00m close_on_error(store):\n",
      "File \u001b[0;32m~/miniconda3/envs/labofis/lib/python3.11/site-packages/xarray/backends/netCDF4_.py:452\u001b[0m, in \u001b[0;36mNetCDF4DataStore.open\u001b[0;34m(cls, filename, mode, format, group, clobber, diskless, persist, auto_complex, lock, lock_maker, autoclose)\u001b[0m\n\u001b[1;32m    448\u001b[0m     kwargs[\u001b[38;5;124m\"\u001b[39m\u001b[38;5;124mauto_complex\u001b[39m\u001b[38;5;124m\"\u001b[39m] \u001b[38;5;241m=\u001b[39m auto_complex\n\u001b[1;32m    449\u001b[0m manager \u001b[38;5;241m=\u001b[39m CachingFileManager(\n\u001b[1;32m    450\u001b[0m     netCDF4\u001b[38;5;241m.\u001b[39mDataset, filename, mode\u001b[38;5;241m=\u001b[39mmode, kwargs\u001b[38;5;241m=\u001b[39mkwargs\n\u001b[1;32m    451\u001b[0m )\n\u001b[0;32m--> 452\u001b[0m \u001b[38;5;28;01mreturn\u001b[39;00m \u001b[38;5;28;43mcls\u001b[39;49m\u001b[43m(\u001b[49m\u001b[43mmanager\u001b[49m\u001b[43m,\u001b[49m\u001b[43m \u001b[49m\u001b[43mgroup\u001b[49m\u001b[38;5;241;43m=\u001b[39;49m\u001b[43mgroup\u001b[49m\u001b[43m,\u001b[49m\u001b[43m \u001b[49m\u001b[43mmode\u001b[49m\u001b[38;5;241;43m=\u001b[39;49m\u001b[43mmode\u001b[49m\u001b[43m,\u001b[49m\u001b[43m \u001b[49m\u001b[43mlock\u001b[49m\u001b[38;5;241;43m=\u001b[39;49m\u001b[43mlock\u001b[49m\u001b[43m,\u001b[49m\u001b[43m \u001b[49m\u001b[43mautoclose\u001b[49m\u001b[38;5;241;43m=\u001b[39;49m\u001b[43mautoclose\u001b[49m\u001b[43m)\u001b[49m\n",
      "File \u001b[0;32m~/miniconda3/envs/labofis/lib/python3.11/site-packages/xarray/backends/netCDF4_.py:393\u001b[0m, in \u001b[0;36mNetCDF4DataStore.__init__\u001b[0;34m(self, manager, group, mode, lock, autoclose)\u001b[0m\n\u001b[1;32m    391\u001b[0m \u001b[38;5;28mself\u001b[39m\u001b[38;5;241m.\u001b[39m_group \u001b[38;5;241m=\u001b[39m group\n\u001b[1;32m    392\u001b[0m \u001b[38;5;28mself\u001b[39m\u001b[38;5;241m.\u001b[39m_mode \u001b[38;5;241m=\u001b[39m mode\n\u001b[0;32m--> 393\u001b[0m \u001b[38;5;28mself\u001b[39m\u001b[38;5;241m.\u001b[39mformat \u001b[38;5;241m=\u001b[39m \u001b[38;5;28;43mself\u001b[39;49m\u001b[38;5;241;43m.\u001b[39;49m\u001b[43mds\u001b[49m\u001b[38;5;241m.\u001b[39mdata_model\n\u001b[1;32m    394\u001b[0m \u001b[38;5;28mself\u001b[39m\u001b[38;5;241m.\u001b[39m_filename \u001b[38;5;241m=\u001b[39m \u001b[38;5;28mself\u001b[39m\u001b[38;5;241m.\u001b[39mds\u001b[38;5;241m.\u001b[39mfilepath()\n\u001b[1;32m    395\u001b[0m \u001b[38;5;28mself\u001b[39m\u001b[38;5;241m.\u001b[39mis_remote \u001b[38;5;241m=\u001b[39m is_remote_uri(\u001b[38;5;28mself\u001b[39m\u001b[38;5;241m.\u001b[39m_filename)\n",
      "File \u001b[0;32m~/miniconda3/envs/labofis/lib/python3.11/site-packages/xarray/backends/netCDF4_.py:461\u001b[0m, in \u001b[0;36mNetCDF4DataStore.ds\u001b[0;34m(self)\u001b[0m\n\u001b[1;32m    459\u001b[0m \u001b[38;5;129m@property\u001b[39m\n\u001b[1;32m    460\u001b[0m \u001b[38;5;28;01mdef\u001b[39;00m\u001b[38;5;250m \u001b[39m\u001b[38;5;21mds\u001b[39m(\u001b[38;5;28mself\u001b[39m):\n\u001b[0;32m--> 461\u001b[0m     \u001b[38;5;28;01mreturn\u001b[39;00m \u001b[38;5;28;43mself\u001b[39;49m\u001b[38;5;241;43m.\u001b[39;49m\u001b[43m_acquire\u001b[49m\u001b[43m(\u001b[49m\u001b[43m)\u001b[49m\n",
      "File \u001b[0;32m~/miniconda3/envs/labofis/lib/python3.11/site-packages/xarray/backends/netCDF4_.py:455\u001b[0m, in \u001b[0;36mNetCDF4DataStore._acquire\u001b[0;34m(self, needs_lock)\u001b[0m\n\u001b[1;32m    454\u001b[0m \u001b[38;5;28;01mdef\u001b[39;00m\u001b[38;5;250m \u001b[39m\u001b[38;5;21m_acquire\u001b[39m(\u001b[38;5;28mself\u001b[39m, needs_lock\u001b[38;5;241m=\u001b[39m\u001b[38;5;28;01mTrue\u001b[39;00m):\n\u001b[0;32m--> 455\u001b[0m \u001b[43m    \u001b[49m\u001b[38;5;28;43;01mwith\u001b[39;49;00m\u001b[43m \u001b[49m\u001b[38;5;28;43mself\u001b[39;49m\u001b[38;5;241;43m.\u001b[39;49m\u001b[43m_manager\u001b[49m\u001b[38;5;241;43m.\u001b[39;49m\u001b[43macquire_context\u001b[49m\u001b[43m(\u001b[49m\u001b[43mneeds_lock\u001b[49m\u001b[43m)\u001b[49m\u001b[43m \u001b[49m\u001b[38;5;28;43;01mas\u001b[39;49;00m\u001b[43m \u001b[49m\u001b[43mroot\u001b[49m\u001b[43m:\u001b[49m\n\u001b[1;32m    456\u001b[0m \u001b[43m        \u001b[49m\u001b[43mds\u001b[49m\u001b[43m \u001b[49m\u001b[38;5;241;43m=\u001b[39;49m\u001b[43m \u001b[49m\u001b[43m_nc4_require_group\u001b[49m\u001b[43m(\u001b[49m\u001b[43mroot\u001b[49m\u001b[43m,\u001b[49m\u001b[43m \u001b[49m\u001b[38;5;28;43mself\u001b[39;49m\u001b[38;5;241;43m.\u001b[39;49m\u001b[43m_group\u001b[49m\u001b[43m,\u001b[49m\u001b[43m \u001b[49m\u001b[38;5;28;43mself\u001b[39;49m\u001b[38;5;241;43m.\u001b[39;49m\u001b[43m_mode\u001b[49m\u001b[43m)\u001b[49m\n\u001b[1;32m    457\u001b[0m     \u001b[38;5;28;01mreturn\u001b[39;00m ds\n",
      "File \u001b[0;32m~/miniconda3/envs/labofis/lib/python3.11/contextlib.py:137\u001b[0m, in \u001b[0;36m_GeneratorContextManager.__enter__\u001b[0;34m(self)\u001b[0m\n\u001b[1;32m    135\u001b[0m \u001b[38;5;28;01mdel\u001b[39;00m \u001b[38;5;28mself\u001b[39m\u001b[38;5;241m.\u001b[39margs, \u001b[38;5;28mself\u001b[39m\u001b[38;5;241m.\u001b[39mkwds, \u001b[38;5;28mself\u001b[39m\u001b[38;5;241m.\u001b[39mfunc\n\u001b[1;32m    136\u001b[0m \u001b[38;5;28;01mtry\u001b[39;00m:\n\u001b[0;32m--> 137\u001b[0m     \u001b[38;5;28;01mreturn\u001b[39;00m \u001b[38;5;28mnext\u001b[39m(\u001b[38;5;28mself\u001b[39m\u001b[38;5;241m.\u001b[39mgen)\n\u001b[1;32m    138\u001b[0m \u001b[38;5;28;01mexcept\u001b[39;00m \u001b[38;5;167;01mStopIteration\u001b[39;00m:\n\u001b[1;32m    139\u001b[0m     \u001b[38;5;28;01mraise\u001b[39;00m \u001b[38;5;167;01mRuntimeError\u001b[39;00m(\u001b[38;5;124m\"\u001b[39m\u001b[38;5;124mgenerator didn\u001b[39m\u001b[38;5;124m'\u001b[39m\u001b[38;5;124mt yield\u001b[39m\u001b[38;5;124m\"\u001b[39m) \u001b[38;5;28;01mfrom\u001b[39;00m\u001b[38;5;250m \u001b[39m\u001b[38;5;28;01mNone\u001b[39;00m\n",
      "File \u001b[0;32m~/miniconda3/envs/labofis/lib/python3.11/site-packages/xarray/backends/file_manager.py:199\u001b[0m, in \u001b[0;36mCachingFileManager.acquire_context\u001b[0;34m(self, needs_lock)\u001b[0m\n\u001b[1;32m    196\u001b[0m \u001b[38;5;129m@contextlib\u001b[39m\u001b[38;5;241m.\u001b[39mcontextmanager\n\u001b[1;32m    197\u001b[0m \u001b[38;5;28;01mdef\u001b[39;00m\u001b[38;5;250m \u001b[39m\u001b[38;5;21macquire_context\u001b[39m(\u001b[38;5;28mself\u001b[39m, needs_lock\u001b[38;5;241m=\u001b[39m\u001b[38;5;28;01mTrue\u001b[39;00m):\n\u001b[1;32m    198\u001b[0m \u001b[38;5;250m    \u001b[39m\u001b[38;5;124;03m\"\"\"Context manager for acquiring a file.\"\"\"\u001b[39;00m\n\u001b[0;32m--> 199\u001b[0m     file, cached \u001b[38;5;241m=\u001b[39m \u001b[38;5;28;43mself\u001b[39;49m\u001b[38;5;241;43m.\u001b[39;49m\u001b[43m_acquire_with_cache_info\u001b[49m\u001b[43m(\u001b[49m\u001b[43mneeds_lock\u001b[49m\u001b[43m)\u001b[49m\n\u001b[1;32m    200\u001b[0m     \u001b[38;5;28;01mtry\u001b[39;00m:\n\u001b[1;32m    201\u001b[0m         \u001b[38;5;28;01myield\u001b[39;00m file\n",
      "File \u001b[0;32m~/miniconda3/envs/labofis/lib/python3.11/site-packages/xarray/backends/file_manager.py:217\u001b[0m, in \u001b[0;36mCachingFileManager._acquire_with_cache_info\u001b[0;34m(self, needs_lock)\u001b[0m\n\u001b[1;32m    215\u001b[0m     kwargs \u001b[38;5;241m=\u001b[39m kwargs\u001b[38;5;241m.\u001b[39mcopy()\n\u001b[1;32m    216\u001b[0m     kwargs[\u001b[38;5;124m\"\u001b[39m\u001b[38;5;124mmode\u001b[39m\u001b[38;5;124m\"\u001b[39m] \u001b[38;5;241m=\u001b[39m \u001b[38;5;28mself\u001b[39m\u001b[38;5;241m.\u001b[39m_mode\n\u001b[0;32m--> 217\u001b[0m file \u001b[38;5;241m=\u001b[39m \u001b[38;5;28;43mself\u001b[39;49m\u001b[38;5;241;43m.\u001b[39;49m\u001b[43m_opener\u001b[49m\u001b[43m(\u001b[49m\u001b[38;5;241;43m*\u001b[39;49m\u001b[38;5;28;43mself\u001b[39;49m\u001b[38;5;241;43m.\u001b[39;49m\u001b[43m_args\u001b[49m\u001b[43m,\u001b[49m\u001b[43m \u001b[49m\u001b[38;5;241;43m*\u001b[39;49m\u001b[38;5;241;43m*\u001b[39;49m\u001b[43mkwargs\u001b[49m\u001b[43m)\u001b[49m\n\u001b[1;32m    218\u001b[0m \u001b[38;5;28;01mif\u001b[39;00m \u001b[38;5;28mself\u001b[39m\u001b[38;5;241m.\u001b[39m_mode \u001b[38;5;241m==\u001b[39m \u001b[38;5;124m\"\u001b[39m\u001b[38;5;124mw\u001b[39m\u001b[38;5;124m\"\u001b[39m:\n\u001b[1;32m    219\u001b[0m     \u001b[38;5;66;03m# ensure file doesn't get overridden when opened again\u001b[39;00m\n\u001b[1;32m    220\u001b[0m     \u001b[38;5;28mself\u001b[39m\u001b[38;5;241m.\u001b[39m_mode \u001b[38;5;241m=\u001b[39m \u001b[38;5;124m\"\u001b[39m\u001b[38;5;124ma\u001b[39m\u001b[38;5;124m\"\u001b[39m\n",
      "File \u001b[0;32msrc/netCDF4/_netCDF4.pyx:2521\u001b[0m, in \u001b[0;36mnetCDF4._netCDF4.Dataset.__init__\u001b[0;34m()\u001b[0m\n",
      "File \u001b[0;32msrc/netCDF4/_netCDF4.pyx:2158\u001b[0m, in \u001b[0;36mnetCDF4._netCDF4._ensure_nc_success\u001b[0;34m()\u001b[0m\n",
      "\u001b[0;31mOSError\u001b[0m: [Errno -75] NetCDF: Malformed or unexpected Constraint: 'https://github.com/labofis/labofis_tutoriais/coraltemp_v3.1_20220409.nc?raw=true'"
     ]
    }
   ],
   "source": [
    "!curl -LJO https://raw.githubusercontent.com/labofis/labofis_tutoriais/refs/heads/main/coraltemp_v3.1_20220409.nc\n",
    "\n",
    "ds = xr.open_dataset('coraltemp_v3.1_20220409.nc')\n",
    "ds"
   ]
  },
  {
   "cell_type": "markdown",
   "metadata": {
    "id": "GwhsqIaabf8q"
   },
   "source": [
    "#### Acurácia do satélite\n",
    "\n",
    "A acurácia das medições de TSM por satélite é impressionante, especialmente considerando a escala global das observações. As medições de TSM têm uma precisão tipicamente na ordem de ±0,3°C a ±0,5°C. Essa alta precisão é suficiente para detectar mudanças sutis que podem ter grandes impactos climáticos. Apesar da alta acurácia, a presença de nuvens pode interferir nas medições de radiômetros de infravermelho, exigindo o uso de micro-ondas em áreas cobertas por nuvens. Mesmo assim, os dados obtidos são essenciais e complementados por medições in situ para validação."
   ]
  },
  {
   "cell_type": "code",
   "execution_count": null,
   "metadata": {
    "id": "cycQnr0cbf8q"
   },
   "outputs": [],
   "source": [
    "data = (ds.analysed_sst.sel(lat=slice(-30, 50), lon=slice(-70, 10))).squeeze(dim='time')\n",
    "date_formatted = (((ds.time).to_dataframe().index)[0]).strftime('%Y-%m-%d')\n",
    "pirata('http://goosbrasil.org:8080/pirata/B20n38w.nc', date_formatted, data,'nao')"
   ]
  },
  {
   "cell_type": "markdown",
   "metadata": {
    "id": "OOvaYFAEbf8r"
   },
   "source": [
    "### Seção 2: Plot espacial da TSM do Atlântico Equatorial"
   ]
  },
  {
   "cell_type": "code",
   "execution_count": null,
   "metadata": {
    "id": "SuDGMkOSbf8r"
   },
   "outputs": [],
   "source": [
    "#---------------------------------------------------------------------------------------------------------------------------\n",
    "# Select the extent [min. lon, min. lat, max. lon, max. lat]\n",
    "extent = [-70.0, -30.00, 10.00, 50.00] # Atlantico Equatorial\n",
    "\n",
    "# Extract the Sea Surface Temperature\n",
    "data = (ds.analysed_sst.sel(lat=slice(-30, 50), lon=slice(-70, 10))).squeeze(dim='time')\n",
    "\n",
    "# data = file.variables['analysed_sst'][ 0 , latli:latui , lonli:lonui ]\n",
    "#---------------------------------------------------------------------------------------------------------------------------\n",
    "# Choose the plot size (width x height, in inches)\n",
    "plt.figure(figsize=(25,20))\n",
    "\n",
    "# Use the Cilindrical Equidistant projection in cartopy\n",
    "ax = plt.axes(projection=ccrs.PlateCarree())\n",
    "ax.set_extent([extent[0], extent[2], extent[1], extent[3]], ccrs.PlateCarree())\n",
    "\n",
    "# Define the image extent\n",
    "img_extent = [extent[0], extent[2], extent[1], extent[3]]\n",
    "\n",
    "# Add coastlines, borders and gridlines\n",
    "ax.coastlines(resolution='10m', color='black', linewidth=0.8)\n",
    "ax.add_feature(cartopy.feature.BORDERS, edgecolor='black', linewidth=0.5)\n",
    "gl = ax.gridlines(crs=ccrs.PlateCarree(), color='white', alpha=1.0, linestyle='--', linewidth=0.25, xlocs=np.arange(-180, 180, 10), ylocs=np.arange(-90, 90, 10), draw_labels=True)\n",
    "gl.top_labels = False\n",
    "gl.right_labels = False\n",
    "\n",
    "gl.xlabel_style = {'size': 14, 'color': 'black'}  # Set font size to 14 and color to black\n",
    "gl.ylabel_style = {'size': 14, 'color': 'black'}  # Set font size to 14 and color to black\n",
    "\n",
    "vmin = 10.0\n",
    "vmax = 35.0\n",
    "\n",
    "# Add a land mask\n",
    "ax.add_feature(cfeature.LAND)\n",
    "\n",
    "# Plot the image\n",
    "img = ax.imshow(data, vmin=vmin, vmax=vmax, origin='lower', extent=img_extent, cmap='inferno')\n",
    "\n",
    "# Add a colorbar\n",
    "CB2 = plt.colorbar(img, extend='neither',\\\n",
    "                          orientation='horizontal', pad=0.05, fraction=0.05, shrink=0.3)\n",
    "CB2.set_label('Sea Surface Temperature (°C)', fontsize=14)\n",
    "CB2.ax.tick_params(labelsize='large')\n",
    "\n",
    "# Getting the file time and date\n",
    "date_formatted = (((ds.time).to_dataframe().index)[0]).strftime('%Y-%m-%d')\n",
    "\n",
    "# Add a title\n",
    "# plt.title(f'NOAA Coral Reef Watch Daily 5 km SST + PIRATA Project Buoys - {date_formatted}', fontweight='bold', fontsize=20, loc='left')\n",
    "plt.title(f'NOAA Coral Reef Watch Daily 5 km SST and PIRATA Project Buoys  \\nDate: {date_formatted}', fontweight='bold', fontsize=20, loc='left')\n",
    "plt.title('Region: ' + str(extent), fontsize=16, loc='right')\n",
    "\n",
    "# Add a text inside the plot\n",
    "from matplotlib.offsetbox import AnchoredText\n",
    "text = AnchoredText(\"UERJ / FAOC / LABOFIS\", loc=4, prop={'size': 22}, frameon=True)\n",
    "ax.add_artist(text)\n",
    "\n",
    "\n",
    "txt_offset_x = 0.8\n",
    "txt_offset_y = 0.8\n",
    "date_formatted = (((ds.time).to_dataframe().index)[0]).strftime('%Y-%m-%d')\n",
    "\n",
    "pirata('http://goosbrasil.org:8080/pirata/B20n38w.nc', date_formatted, data,'sim')\n",
    "pirata('http://goosbrasil.org:8080/pirata/B15n38w.nc', date_formatted, data,'sim')\n",
    "pirata('http://goosbrasil.org:8080/pirata/B21n23w.nc', date_formatted, data,'sim')\n",
    "pirata('http://goosbrasil.org:8080/pirata/B12n23w.nc', date_formatted, data,'sim')\n",
    "\n",
    "plt.show()"
   ]
  },
  {
   "cell_type": "markdown",
   "metadata": {
    "id": "cE8OYTQsbf8r"
   },
   "source": [
    "### Desafio:\n",
    "\n",
    "Faça essa mesma figura para outro dia e com mais boias!"
   ]
  },
  {
   "cell_type": "code",
   "execution_count": null,
   "metadata": {
    "id": "-EnF1loebf8r"
   },
   "outputs": [],
   "source": [
    "delay = 0\n",
    "today = datetime(yyyy,mm,dd)\n",
    "\n",
    "path = ('pub/socd/mecb/crw/data/5km/v3.1_op/nc/v1.0/daily/sst/' + (today + timedelta(days=delay)).strftime('%Y') + '/')\n",
    "naming_convention = 'coraltemp_v3.1'\n",
    "extension = '.nc'\n",
    "file_name = naming_convention + '_' + (today + timedelta(days=delay)).strftime('%Y%m%d') + extension\n",
    "print('Salvando o arquivo: ', file_name)\n",
    "\n",
    "noaa = NOAA(\"ftp.star.nesdis.noaa.gov\", path).download(file_name)"
   ]
  },
  {
   "cell_type": "code",
   "execution_count": null,
   "metadata": {
    "id": "y-xJvmonbf8r"
   },
   "outputs": [],
   "source": [
    "#---------------------------------------------------------------------------------------------------------------------------\n",
    "# Select the extent [min. lon, min. lat, max. lon, max. lat]\n",
    "extent = [-70.0, -30.00, 10.00, 50.00] # Atlantico Equatorial\n",
    "\n",
    "# Extract the Sea Surface Temperature\n",
    "data = (ds.analysed_sst.sel(lat=slice(-30, 50), lon=slice(-70, 10))).squeeze(dim='time')\n",
    "\n",
    "# data = file.variables['analysed_sst'][ 0 , latli:latui , lonli:lonui ]\n",
    "#---------------------------------------------------------------------------------------------------------------------------\n",
    "...\n"
   ]
  }
 ],
 "metadata": {
  "colab": {
   "provenance": []
  },
  "kernelspec": {
   "display_name": "labofis",
   "language": "python",
   "name": "python3"
  },
  "language_info": {
   "codemirror_mode": {
    "name": "ipython",
    "version": 3
   },
   "file_extension": ".py",
   "mimetype": "text/x-python",
   "name": "python",
   "nbconvert_exporter": "python",
   "pygments_lexer": "ipython3",
   "version": "3.11.11"
  }
 },
 "nbformat": 4,
 "nbformat_minor": 0
}
