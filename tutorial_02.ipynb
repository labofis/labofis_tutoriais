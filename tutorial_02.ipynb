{
 "cells": [
  {
   "cell_type": "markdown",
   "metadata": {
    "id": "CIUBvWtWbf8m"
   },
   "source": [
    "# Tutorial 2: Medição da temperatura da superfície do mar - comparando métodos *in situ* e por satelites"
   ]
  },
  {
   "cell_type": "markdown",
   "metadata": {
    "id": "mQk4GFQObf8n"
   },
   "source": [
    "### Importando bibliotecas"
   ]
  },
  {
   "cell_type": "code",
   "execution_count": 23,
   "metadata": {
    "id": "fSvJ4jrQbf8o"
   },
   "outputs": [],
   "source": [
    "import matplotlib.pyplot as plt            # Plotting library\n",
    "from datetime import datetime, timedelta   # Basic date and time types\n",
    "import numpy as np                         # Import the Numpy package\n",
    "import matplotlib.colors                   # Matplotlib colors\n",
    "from datetime import datetime, timedelta   # Basic Dates and time types\n",
    "import os                                  # Miscellaneous operating system interfaces\n",
    "import time as t                           # Time access and conversion\n",
    "import xarray as xr"
   ]
  },
  {
   "cell_type": "code",
   "execution_count": null,
   "metadata": {
    "id": "45dFnitIbrSu"
   },
   "outputs": [],
   "source": [
    "!pip install netCDF4\n",
    "from netCDF4 import Dataset\n",
    "\n",
    "!pip install cartopy\n",
    "import cartopy, cartopy.crs as ccrs        # Plot maps\n",
    "import cartopy.feature as cfeature         # Common drawing and filtering operations\n",
    "import cartopy.io.shapereader as shpreader # Import shapefiles\n",
    "\n",
    "\n",
    "!pip install cftime\n",
    "import cftime\n",
    "\n",
    "import cftime\n",
    "import xarray as xr\n",
    "!pip install --upgrade xarray cftime"
   ]
  },
  {
   "cell_type": "markdown",
   "metadata": {
    "id": "cgd6Yrcfbf8o"
   },
   "source": [
    "### Definindo funções\n"
   ]
  },
  {
   "cell_type": "code",
   "execution_count": 25,
   "metadata": {
    "id": "HuUdg4zlbf8p"
   },
   "outputs": [],
   "source": [
    "def pirata(nome_arquivo, date_formatted, data, plot):\n",
    "    # Read the buoy data\n",
    "    boia1 = xr.open_dataset(nome_arquivo, use_cftime=True)\n",
    "    try:\n",
    "        data_selecionada = boia1.sel(time=date_formatted, method='nearest')\n",
    "    except:\n",
    "        data_selecionada = boia1.sel(time=date_formatted)\n",
    "    temp_buoy = [np.nan if data_selecionada.temperature.sel(depth_t=0, method='nearest').values.round(2) == -9999.0 else data_selecionada.temperature.sel(depth_t=0, method='nearest').values.round(2)]\n",
    "    lon_buoy  = data_selecionada.longitude.values - 360\n",
    "    lat_buoy  = data_selecionada.latitude.values\n",
    "\n",
    "    temp_sat = data.sel(lat=lat_buoy, lon=lon_buoy, method='nearest').values\n",
    "\n",
    "    delta = temp_sat - temp_buoy\n",
    "\n",
    "    if plot == 'sim':\n",
    "        # Adding Annotations\n",
    "        ax.plot(lon_buoy, lat_buoy, 'o', color='red', markersize=8, transform=ccrs.Geodetic(), markeredgewidth=1.0, markeredgecolor=(0, 0, 0, 1))\n",
    "        text = \"Lat: \" + str(lat_buoy.round(2)) + \"\\n\" + \"Lon: \" + str(lon_buoy.round(2)) + \"\\n\" + \"Satellite: \" + str(temp_sat) + \" °C\" + \"\\n\" + \"Buoy: \" + str(temp_buoy) + \" °C\" + \"\\n\" + \"\\u0394 = \"  + str(delta.round(4)) + \" °C\"\n",
    "        plt.annotate(text, xy=(int(lon_buoy + txt_offset_x), int(lat_buoy + txt_offset_y)), xycoords=ccrs.PlateCarree()._as_mpl_transform(ax), fontsize=12, fontweight='bold', color='gold', bbox=dict(boxstyle=\"round\",fc=(0.0, 0.0, 0.0, 0.5), ec=(1., 1., 1.)), alpha = 1.0)\n",
    "    else:\n",
    "        print('Temepratura boia: ', np.round(temp_buoy[0],2))\n",
    "        print('Temepratura satélite: ', np.round(temp_sat,2))\n",
    "        print('Diferença: ',np.round(delta[0],2))"
   ]
  },
  {
   "cell_type": "markdown",
   "metadata": {
    "id": "nOBkaY0pbf8p"
   },
   "source": [
    "### Objetivos do Tutorial\n",
    "\n",
    "Neste tutorial, você aprenderá a obter dados da temperatura da superfície do mar (TSM) de forma prática e eficiente. Usaremos a biblioteca noaa_ftp para fazer o download dos dados diretamente do site da [NOAA](https://www.noaa.gov/). Além disso, você acessará dados de boias do Projeto PIRATA, realizará uma comparação entre as temperaturas obtidas por satélite e as medições in situ, e criará uma visualização gráfica dessas informações. Os objetivos específicos são:\n",
    "\n",
    "1. Baixar dados de TSM do site da NOAA utilizando a biblioteca `noaa_ftp`.\n",
    "2. Obter dados de boias do Projeto PIRATA\n",
    "3. Comparar as temperaturas de TSM entre os dados de satélite e as medições *in situ* das boias.\n",
    "4. Plotar uma figura espacial do Atlântico Equatorial com a comparação das diferentes fontes de dados.\n",
    "\n",
    "Ao concluir este tutorial, você estará apto a identificar e analisar as diferenças entre as medições diretas e indiretas da TSM."
   ]
  },
  {
   "cell_type": "markdown",
   "metadata": {
    "id": "cFTNiHbvbf8p"
   },
   "source": [
    "### Oceanografia por Satélite: Avanços e Importância\n",
    "\n",
    "A oceanografia por satélite revolucionou a forma como estudamos e compreendemos os oceanos. Utilizando sensores remotos a bordo de satélites, os cientistas conseguem monitorar vastas áreas oceânicas em tempo real, algo que seria impossível apenas com medições in situ. Essa tecnologia tem permitido avanços significativos em diversas áreas, como a climatologia, a modelagem de correntes oceânicas, e a previsão de fenômenos extremos como furacões e tsunamis.\n",
    "\n",
    "Avanços Provocados pela Oceanografia por Satélite\n",
    "\n",
    " - Monitoramento Global e Contínuo: A capacidade de observar os oceanos de forma contínua e em escala global é um dos maiores avanços. Isso permite que os cientistas acompanhem mudanças sazonais e a longo prazo, contribuindo para o entendimento das dinâmicas oceânicas e seus impactos no clima global.\n",
    "\n",
    " - Modelagem de Correntes e Dinâmicas Oceânicas: Dados de satélite ajudam na modelagem precisa de correntes oceânicas, como a Corrente do Golfo\n",
    "\n",
    " - Previsão do ENSO: os dados de satélite são muito utilizados para compreender, inferir e até mesmo prever eventos como El Niño e La Niña.\n",
    "\n",
    " - Monitoramento da Saúde dos Oceanos: Sensores de satélite permitem a análise da saúde dos oceanos através da medição de parâmetros como a clorofila-a, que indica a produtividade biológica e a presença de algas marinhas."
   ]
  },
  {
   "cell_type": "markdown",
   "metadata": {
    "id": "2Of4bKjXbf8p"
   },
   "source": [
    "#### Seção 1: Temperatura da Superfície do Mar (TSM)\n",
    "\n",
    "Uma das aplicações mais importantes da oceanografia por satélite é a medição da temperatura da superfície do mar (TSM). Esta informação é crucial para o entendimento das interações entre o oceano e a atmosfera, influenciando previsões climáticas e meteorológicas.\n",
    "\n",
    "A TSM é obtida através de radiômetros de infravermelho e micro-ondas a bordo de satélites. Esses sensores detectam a radiação emitida pela superfície do oceano, que é então convertida em valores de temperatura. A TSM é um dos principais fatores na previsão de ciclones tropicais, correntes oceânicas e eventos climáticos globais como ENSO. Além disso, mudanças na SST são indicadores-chave das mudanças climáticas.\n",
    "\n",
    "O projeto [Coral Reef Watch](https://coralreefwatch.noaa.gov/product/5km/index_5km_ssta.php) (CRW) da NOAA fornece um conjunto de produtos diários globais de TSM em uma resolução de 5 km, conhecido como CoralTemp, abrangendo desde 1985 até o presente. Esses produtos são essenciais para o monitoramento do estresse térmico relacionado ao branqueamento de corais, especialmente em regiões com alta variabilidade térmica. A v3.1 foi desenvolvida para corrigir erros em dados anteriores e agora permite o monitoramento direto de 95% dos recifes de corais globais, reduzindo lacunas de dados causadas pela cobertura de nuvens.\n",
    "\n",
    "Entre os produtos oferecidos estão a TSM, Anomalia de TSM, HotSpot de Branqueamento de Corais, e a Tendência de TSM de 7 dias. O produto de Tendência de TSM, por exemplo, analisa a variação da TSM ao longo de sete dias, identificando tendências significativas que podem indicar estresse térmico em corais. Esses dados são atualizados diariamente, proporcionando informações críticas para a gestão de recifes de corais e a previsão de eventos de branqueamento."
   ]
  },
  {
   "cell_type": "code",
   "execution_count": null,
   "metadata": {
    "id": "eby4G5XEbf8q"
   },
   "outputs": [],
   "source": [
    "!curl -LJO https://raw.githubusercontent.com/labofis/labofis_tutoriais/refs/heads/main/coraltemp_v3.1_20220409.nc\n",
    "\n",
    "ds = xr.open_dataset('coraltemp_v3.1_20220409.nc')\n",
    "ds"
   ]
  },
  {
   "cell_type": "markdown",
   "metadata": {
    "id": "GwhsqIaabf8q"
   },
   "source": [
    "#### Acurácia do satélite\n",
    "\n",
    "A acurácia das medições de TSM por satélite é impressionante, especialmente considerando a escala global das observações. As medições de TSM têm uma precisão tipicamente na ordem de ±0,3°C a ±0,5°C. Essa alta precisão é suficiente para detectar mudanças sutis que podem ter grandes impactos climáticos. Apesar da alta acurácia, a presença de nuvens pode interferir nas medições de radiômetros de infravermelho, exigindo o uso de micro-ondas em áreas cobertas por nuvens. Mesmo assim, os dados obtidos são essenciais e complementados por medições in situ para validação."
   ]
  },
  {
   "cell_type": "code",
   "execution_count": null,
   "metadata": {
    "id": "cycQnr0cbf8q"
   },
   "outputs": [],
   "source": [
    "data = (ds.analysed_sst.sel(lat=slice(-30, 50), lon=slice(-70, 10))).squeeze(dim='time')\n",
    "date_formatted = (((ds.time).to_dataframe().index)[0]).strftime('%Y-%m-%d')\n",
    "\n",
    "!curl -LJO https://raw.githubusercontent.com/labofis/labofis_tutoriais/refs/heads/main/B20n38w.nc\n",
    "pirata('B20n38w.nc', date_formatted, data,'nao')"
   ]
  },
  {
   "cell_type": "markdown",
   "metadata": {
    "id": "OOvaYFAEbf8r"
   },
   "source": [
    "### Seção 2: Plot espacial da TSM do Atlântico Equatorial"
   ]
  },
  {
   "cell_type": "code",
   "execution_count": null,
   "metadata": {
    "id": "SuDGMkOSbf8r"
   },
   "outputs": [],
   "source": [
    "#---------------------------------------------------------------------------------------------------------------------------\n",
    "# Select the extent [min. lon, min. lat, max. lon, max. lat]\n",
    "extent = [-70.0, -30.00, 10.00, 50.00] # Atlantico Equatorial\n",
    "\n",
    "# Extract the Sea Surface Temperature\n",
    "data = (ds.analysed_sst.sel(lat=slice(-30, 50), lon=slice(-70, 10))).squeeze(dim='time')\n",
    "\n",
    "# data = file.variables['analysed_sst'][ 0 , latli:latui , lonli:lonui ]\n",
    "#---------------------------------------------------------------------------------------------------------------------------\n",
    "# Choose the plot size (width x height, in inches)\n",
    "plt.figure(figsize=(25,20))\n",
    "\n",
    "# Use the Cilindrical Equidistant projection in cartopy\n",
    "ax = plt.axes(projection=ccrs.PlateCarree())\n",
    "ax.set_extent([extent[0], extent[2], extent[1], extent[3]], ccrs.PlateCarree())\n",
    "\n",
    "# Define the image extent\n",
    "img_extent = [extent[0], extent[2], extent[1], extent[3]]\n",
    "\n",
    "# Add coastlines, borders and gridlines\n",
    "ax.coastlines(resolution='10m', color='black', linewidth=0.8)\n",
    "ax.add_feature(cartopy.feature.BORDERS, edgecolor='black', linewidth=0.5)\n",
    "gl = ax.gridlines(crs=ccrs.PlateCarree(), color='white', alpha=1.0, linestyle='--', linewidth=0.25, xlocs=np.arange(-180, 180, 10), ylocs=np.arange(-90, 90, 10), draw_labels=True)\n",
    "gl.top_labels = False\n",
    "gl.right_labels = False\n",
    "\n",
    "gl.xlabel_style = {'size': 14, 'color': 'black'}  # Set font size to 14 and color to black\n",
    "gl.ylabel_style = {'size': 14, 'color': 'black'}  # Set font size to 14 and color to black\n",
    "\n",
    "vmin = 10.0\n",
    "vmax = 35.0\n",
    "\n",
    "# Add a land mask\n",
    "ax.add_feature(cfeature.LAND)\n",
    "\n",
    "# Plot the image\n",
    "img = ax.imshow(data, vmin=vmin, vmax=vmax, origin='lower', extent=img_extent, cmap='inferno')\n",
    "\n",
    "# Add a colorbar\n",
    "CB2 = plt.colorbar(img, extend='neither',\\\n",
    "                          orientation='horizontal', pad=0.05, fraction=0.05, shrink=0.3)\n",
    "CB2.set_label('Sea Surface Temperature (°C)', fontsize=14)\n",
    "CB2.ax.tick_params(labelsize='large')\n",
    "\n",
    "# Getting the file time and date\n",
    "date_formatted = (((ds.time).to_dataframe().index)[0]).strftime('%Y-%m-%d')\n",
    "\n",
    "# Add a title\n",
    "# plt.title(f'NOAA Coral Reef Watch Daily 5 km SST + PIRATA Project Buoys - {date_formatted}', fontweight='bold', fontsize=20, loc='left')\n",
    "plt.title(f'NOAA Coral Reef Watch Daily 5 km SST and PIRATA Project Buoys  \\nDate: {date_formatted}', fontweight='bold', fontsize=20, loc='left')\n",
    "plt.title('Region: ' + str(extent), fontsize=16, loc='right')\n",
    "\n",
    "# Add a text inside the plot\n",
    "from matplotlib.offsetbox import AnchoredText\n",
    "text = AnchoredText(\"UERJ / FAOC / LABOFIS\", loc=4, prop={'size': 22}, frameon=True)\n",
    "ax.add_artist(text)\n",
    "\n",
    "\n",
    "txt_offset_x = 0.8\n",
    "txt_offset_y = 0.8\n",
    "date_formatted = (((ds.time).to_dataframe().index)[0]).strftime('%Y-%m-%d')\n",
    "\n",
    "!curl -LJO https://raw.githubusercontent.com/labofis/labofis_tutoriais/refs/heads/main/B20n38w.nc\n",
    "pirata('B20n38w.nc', date_formatted, data,'sim')\n",
    "\n",
    "!curl -LJO https://raw.githubusercontent.com/labofis/labofis_tutoriais/refs/heads/main/B15n38w.nc\n",
    "pirata('B15n38w.nc', date_formatted, data,'sim')\n",
    "\n",
    "!curl -LJO https://raw.githubusercontent.com/labofis/labofis_tutoriais/refs/heads/main/B21n23w.nc\n",
    "pirata('B21n23w.nc', date_formatted, data,'sim')\n",
    "\n",
    "!curl -LJO https://raw.githubusercontent.com/labofis/labofis_tutoriais/refs/heads/main/B12n23w.nc\n",
    "pirata('B12n23w.nc', date_formatted, data,'sim')\n",
    "\n",
    "plt.show()"
   ]
  },
  {
   "cell_type": "markdown",
   "metadata": {
    "id": "cE8OYTQsbf8r"
   },
   "source": [
    "### Desafio:\n",
    "\n",
    "Faça essa mesma figura para outro dia e com mais boias!"
   ]
  },
  {
   "cell_type": "code",
   "execution_count": null,
   "metadata": {
    "id": "-EnF1loebf8r"
   },
   "outputs": [],
   "source": [
    "delay = 0\n",
    "today = datetime(yyyy,mm,dd)\n",
    "\n",
    "path = ('pub/socd/mecb/crw/data/5km/v3.1_op/nc/v1.0/daily/sst/' + (today + timedelta(days=delay)).strftime('%Y') + '/')\n",
    "naming_convention = 'coraltemp_v3.1'\n",
    "extension = '.nc'\n",
    "file_name = naming_convention + '_' + (today + timedelta(days=delay)).strftime('%Y%m%d') + extension\n",
    "print('Salvando o arquivo: ', file_name)\n",
    "\n",
    "noaa = NOAA(\"ftp.star.nesdis.noaa.gov\", path).download(file_name)"
   ]
  },
  {
   "cell_type": "code",
   "execution_count": null,
   "metadata": {
    "id": "y-xJvmonbf8r"
   },
   "outputs": [],
   "source": [
    "#---------------------------------------------------------------------------------------------------------------------------\n",
    "# Select the extent [min. lon, min. lat, max. lon, max. lat]\n",
    "extent = [-70.0, -30.00, 10.00, 50.00] # Atlantico Equatorial\n",
    "\n",
    "# Extract the Sea Surface Temperature\n",
    "data = (ds.analysed_sst.sel(lat=slice(-30, 50), lon=slice(-70, 10))).squeeze(dim='time')\n",
    "\n",
    "# data = file.variables['analysed_sst'][ 0 , latli:latui , lonli:lonui ]\n",
    "#---------------------------------------------------------------------------------------------------------------------------\n",
    "...\n"
   ]
  }
 ],
 "metadata": {
  "colab": {
   "provenance": []
  },
  "kernelspec": {
   "display_name": "labofis",
   "language": "python",
   "name": "python3"
  },
  "language_info": {
   "codemirror_mode": {
    "name": "ipython",
    "version": 3
   },
   "file_extension": ".py",
   "mimetype": "text/x-python",
   "name": "python",
   "nbconvert_exporter": "python",
   "pygments_lexer": "ipython3",
   "version": "3.11.11"
  }
 },
 "nbformat": 4,
 "nbformat_minor": 0
}
