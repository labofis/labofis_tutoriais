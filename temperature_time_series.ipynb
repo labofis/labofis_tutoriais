{
 "cells": [
  {
   "cell_type": "markdown",
   "id": "26d726f5-15e8-4d8c-9ef5-0636bd12a064",
   "metadata": {},
   "source": [
    "# Série Temporal da Temperatura de Londres"
   ]
  },
  {
   "cell_type": "markdown",
   "id": "6ca50472-80c0-4f64-9017-76811d602f88",
   "metadata": {},
   "source": [
    "### Passo 1"
   ]
  },
  {
   "cell_type": "markdown",
   "id": "81b93e6e-9088-4da3-8202-23741320cb93",
   "metadata": {},
   "source": [
    "Primeiro temos que importar as bibliotecas para que os dados sejam lidos no python"
   ]
  },
  {
   "cell_type": "code",
   "execution_count": null,
   "id": "228cd717-66f0-49fb-8965-83f43e8c3900",
   "metadata": {
    "tags": []
   },
   "outputs": [],
   "source": [
    "import pandas as pd\n",
    "import matplotlib.pyplot as plt\n",
    "import numpy as np"
   ]
  },
  {
   "cell_type": "markdown",
   "id": "bfdcbc55-77ba-4755-bf71-d40fe1091ecd",
   "metadata": {},
   "source": [
    "Carregando o arquivo"
   ]
  },
  {
   "cell_type": "markdown",
   "id": "b6cfb11d-4969-495d-9267-efe8ec700325",
   "metadata": {},
   "source": [
    " --> Importante destacar que ao abrir o arquivo no bloco de notas notamos que o separador da coluna é uma vírgula"
   ]
  },
  {
   "cell_type": "code",
   "execution_count": null,
   "id": "d5e4efd7-3534-48f5-8cb3-978ef745fb07",
   "metadata": {
    "tags": []
   },
   "outputs": [],
   "source": [
    "arquivo = 'london_weather.csv'  # Trocar o nome desse arquivo\n",
    "df = pd.read_csv(arquivo, sep=',')\n",
    "df\n"
   ]
  },
  {
   "cell_type": "code",
   "execution_count": null,
   "id": "84015f3e-bce0-44c4-88de-b3e243913c7d",
   "metadata": {
    "tags": []
   },
   "outputs": [],
   "source": [
    "df.max_temp.plot()"
   ]
  },
  {
   "cell_type": "code",
   "execution_count": null,
   "id": "40f4b598-b86f-45e1-b72b-6b3625e6cd77",
   "metadata": {
    "tags": []
   },
   "outputs": [],
   "source": [
    "temp_media = df.max_temp.rolling(30).mean()\n",
    "plt.plot(temp_media)\n",
    "plt.show()\n"
   ]
  },
  {
   "cell_type": "code",
   "execution_count": null,
   "id": "51bc1ab8-aaa3-4ec5-96bc-6e818733c220",
   "metadata": {},
   "outputs": [],
   "source": [
    "    "
   ]
  }
 ],
 "metadata": {
  "kernelspec": {
   "display_name": "Python 3 (ipykernel)",
   "language": "python",
   "name": "python3"
  },
  "language_info": {
   "codemirror_mode": {
    "name": "ipython",
    "version": 3
   },
   "file_extension": ".py",
   "mimetype": "text/x-python",
   "name": "python",
   "nbconvert_exporter": "python",
   "pygments_lexer": "ipython3",
   "version": "3.10.12"
  }
 },
 "nbformat": 4,
 "nbformat_minor": 5
}
