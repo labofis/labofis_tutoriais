{
 "cells": [
  {
   "cell_type": "markdown",
   "id": "26d726f5-15e8-4d8c-9ef5-0636bd12a064",
   "metadata": {},
   "source": [
    "# Série Temporal da Temperatura de Londres"
   ]
  },
  {
   "cell_type": "markdown",
   "id": "6ca50472-80c0-4f64-9017-76811d602f88",
   "metadata": {},
   "source": [
    "### Passo 1"
   ]
  },
  {
   "cell_type": "markdown",
   "id": "81b93e6e-9088-4da3-8202-23741320cb93",
   "metadata": {},
   "source": [
    "Primeiro temos que importar as bibliotecas para que os dados sejam lidos no python"
   ]
  },
  {
   "cell_type": "code",
   "execution_count": null,
   "id": "228cd717-66f0-49fb-8965-83f43e8c3900",
   "metadata": {
    "tags": []
   },
   "outputs": [],
   "source": [
    "import pandas as pd\n",
    "import matplotlib.pyplot as plt\n",
    "import numpy as np\n",
    "import datetime as dt\n",
    "import calendar\n",
    "\n",
    "import plotly.express as px\n",
    "import plotly.graph_objects as go\n",
    "import plotly.express as px\n"
   ]
  },
  {
   "cell_type": "markdown",
   "id": "bfdcbc55-77ba-4755-bf71-d40fe1091ecd",
   "metadata": {},
   "source": [
    "Carregando o arquivo"
   ]
  },
  {
   "cell_type": "markdown",
   "id": "b6cfb11d-4969-495d-9267-efe8ec700325",
   "metadata": {},
   "source": [
    " --> Importante destacar que ao abrir o arquivo no bloco de notas notamos que o separador da coluna é uma vírgula"
   ]
  },
  {
   "cell_type": "code",
   "execution_count": null,
   "id": "d5e4efd7-3534-48f5-8cb3-978ef745fb07",
   "metadata": {
    "tags": []
   },
   "outputs": [],
   "source": [
    "arquivo = 'london_weather.csv'  # Trocar o nome desse arquivo\n",
    "df = pd.read_csv(arquivo, sep=',')\n",
    "df\n"
   ]
  },
  {
   "cell_type": "code",
   "execution_count": null,
   "id": "cd3136ef",
   "metadata": {},
   "outputs": [],
   "source": [
    "# Indexando pelo tempo\n",
    "datas = [dt.datetime(int(str(df['date'][H])[0:4]), int(str(df['date'][H])[4:6]), int(str(df['date'][H])[6:8]), 0, 0, 0) for H in range(0,len(df['date']))]\n",
    "df.index = datas\n",
    "df = df.drop(['date'], axis='columns')\n",
    "df"
   ]
  },
  {
   "cell_type": "markdown",
   "id": "a10a32f1",
   "metadata": {},
   "source": [
    "Verificando os extremos:"
   ]
  },
  {
   "cell_type": "code",
   "execution_count": null,
   "id": "84015f3e-bce0-44c4-88de-b3e243913c7d",
   "metadata": {
    "tags": []
   },
   "outputs": [],
   "source": [
    "print('Máximo de temperatura foi de ',np.max(df.max_temp), ' em ', df.index[np.argmax(df.max_temp)].strftime('%d/%m/%Y'))\n",
    "print('Mínimo de temperatura foi de ',np.min(df.min_temp), ' em ', df.index[np.argmin(df.min_temp)].strftime('%d/%m/%Y'))"
   ]
  },
  {
   "cell_type": "markdown",
   "id": "228ec29f",
   "metadata": {},
   "source": [
    "#### Série temporal"
   ]
  },
  {
   "cell_type": "code",
   "execution_count": null,
   "id": "40f4b598-b86f-45e1-b72b-6b3625e6cd77",
   "metadata": {
    "tags": []
   },
   "outputs": [],
   "source": [
    "# Figura da série temporal da temperatura máxima com média móvel de 30 dias\n",
    "fig = plt.figure(figsize=(12,6))\n",
    "temp_media = df.max_temp.rolling(30).mean()\n",
    "plt.plot(temp_media)\n",
    "plt.show()\n"
   ]
  },
  {
   "cell_type": "code",
   "execution_count": null,
   "id": "d6d1ffa4",
   "metadata": {},
   "outputs": [],
   "source": [
    "# Figura da série temporal de temperatura média com média móvel anual\n",
    "fig = plt.figure(figsize=(12,6))\n",
    "temp_media = df.mean_temp.groupby(df.index.year).mean()\n",
    "plt.plot(temp_media)\n",
    "plt.show()"
   ]
  },
  {
   "cell_type": "markdown",
   "id": "ae4d0b2d",
   "metadata": {},
   "source": [
    "#### Calculando o ano climatológico das temperaturas"
   ]
  },
  {
   "cell_type": "code",
   "execution_count": null,
   "id": "51bc1ab8-aaa3-4ec5-96bc-6e818733c220",
   "metadata": {},
   "outputs": [],
   "source": [
    "serie_min = df.min_temp.groupby(df.index.month).mean()\n",
    "serie_mean = df.mean_temp.groupby(df.index.month).mean()\n",
    "serie_max = df.max_temp.groupby(df.index.month).mean()\n",
    "\n",
    "\n",
    "fig = go.Figure()\n",
    "fig.add_trace(go.Scatter(x=datas,y=serie_min,name='Mínimo'))\n",
    "fig.add_trace(go.Scatter(x=datas,y=serie_mean,name='Média'))\n",
    "fig.add_trace(go.Scatter(x=datas,y=serie_max,name='Máxima'))\n",
    "fig.show()"
   ]
  },
  {
   "cell_type": "markdown",
   "id": "2762af83",
   "metadata": {},
   "source": [
    "Comparando o ano de 1980 e 2020 com um gráfico de teia"
   ]
  },
  {
   "cell_type": "code",
   "execution_count": null,
   "id": "f2bc53be",
   "metadata": {},
   "outputs": [],
   "source": [
    "meses = [calendar.month_abbr[x] for x in range(1,13)]\n",
    "\n",
    "ano_1980 = pd.DataFrame(df.mean_temp.loc['19800101':'19801231'])\n",
    "ano_1980 = ano_1980.groupby(ano_1980.index.month).mean()\n",
    "\n",
    "ano_2020 = pd.DataFrame(df.mean_temp.loc['20200101':'20201231'])\n",
    "ano_2020 = ano_2020.groupby(ano_2020.index.month).mean()\n"
   ]
  },
  {
   "cell_type": "code",
   "execution_count": null,
   "id": "a98dcff5",
   "metadata": {},
   "outputs": [],
   "source": [
    "fig = go.Figure()\n",
    "\n",
    "fig.add_trace(go.Scatterpolar(\n",
    "      r=ano_1980.mean_temp,\n",
    "      theta=meses,\n",
    "      fill='toself',\n",
    "      name='1980'\n",
    "))\n",
    "fig.add_trace(go.Scatterpolar(\n",
    "      r=ano_2020.mean_temp,\n",
    "      theta=meses,\n",
    "      fill='toself',\n",
    "      name='2020'\n",
    "))\n",
    "\n",
    "fig.update_layout(\n",
    "  polar=dict(\n",
    "    radialaxis=dict(\n",
    "      visible=True,\n",
    "      range=[-12, 40]\n",
    "    )),\n",
    "  showlegend=False\n",
    ")\n",
    "\n",
    "fig.show()\n"
   ]
  }
 ],
 "metadata": {
  "kernelspec": {
   "display_name": "Python 3 (ipykernel)",
   "language": "python",
   "name": "python3"
  },
  "language_info": {
   "codemirror_mode": {
    "name": "ipython",
    "version": 3
   },
   "file_extension": ".py",
   "mimetype": "text/x-python",
   "name": "python",
   "nbconvert_exporter": "python",
   "pygments_lexer": "ipython3",
   "version": "3.10.12"
  }
 },
 "nbformat": 4,
 "nbformat_minor": 5
}
