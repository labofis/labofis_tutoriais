{
 "cells": [
  {
   "cell_type": "markdown",
   "metadata": {
    "id": "_KVn8xA_K278"
   },
   "source": [
    "# Introdução ao Pandas"
   ]
  },
  {
   "cell_type": "markdown",
   "metadata": {
    "id": "CXvNFfLIK27_"
   },
   "source": [
    "Pandas é uma biblioteca que fornece estruturas de dados e ferramentas de análise de dados de alto desempenho e fáceis de usar para a linguagem de programação Python."
   ]
  },
  {
   "cell_type": "markdown",
   "metadata": {
    "id": "iMHXd4nSK28B"
   },
   "source": [
    "### Importando Pandas"
   ]
  },
  {
   "cell_type": "markdown",
   "metadata": {
    "id": "6fARN4VPK28C"
   },
   "source": [
    "Para começar a usar o Pandas, você precisa importá-lo. A convenção é importá-lo como pd:"
   ]
  },
  {
   "cell_type": "code",
   "execution_count": 31,
   "metadata": {
    "executionInfo": {
     "elapsed": 390,
     "status": "ok",
     "timestamp": 1737599947522,
     "user": {
      "displayName": "Labofis FAOC",
      "userId": "01325752558099611761"
     },
     "user_tz": 180
    },
    "id": "PYaju1kTK28D"
   },
   "outputs": [],
   "source": [
    "import pandas as pd"
   ]
  },
  {
   "cell_type": "markdown",
   "metadata": {
    "id": "HPIldShoK28F"
   },
   "source": [
    "### Criando DataFrames\n"
   ]
  },
  {
   "cell_type": "markdown",
   "metadata": {
    "id": "buyOkZiDK28G"
   },
   "source": [
    "Um DataFrame é uma estrutura de dados bidimensional, similar a uma tabela em um banco de dados ou uma planilha Excel."
   ]
  },
  {
   "cell_type": "code",
   "execution_count": null,
   "metadata": {
    "colab": {
     "base_uri": "https://localhost:8080/"
    },
    "executionInfo": {
     "elapsed": 13,
     "status": "ok",
     "timestamp": 1737599947522,
     "user": {
      "displayName": "Labofis FAOC",
      "userId": "01325752558099611761"
     },
     "user_tz": 180
    },
    "id": "7SItisQPK28H",
    "outputId": "d2a64dab-0507-45ad-f2a4-30d591231311"
   },
   "outputs": [],
   "source": [
    "# Criando um DataFrame a partir de um dicionário\n",
    "data = {\n",
    "    'Região': ['RJ', 'SP', 'RS', 'BA'],\n",
    "    'Latitude': [-23, -24, -32, -13],\n",
    "    'Longitude': [-43, -46, -51, -38],\n",
    "    'Temperatura': [27, 25, 14, 30],\n",
    "    'Salinidade': [36, 34, 32, 37]\n",
    "}\n",
    "\n",
    "df1 = pd.DataFrame(data)\n",
    "print(df1)"
   ]
  },
  {
   "cell_type": "markdown",
   "metadata": {
    "id": "hLfgpAvQK28K"
   },
   "source": [
    "### Explorando o DataFrame"
   ]
  },
  {
   "cell_type": "markdown",
   "metadata": {
    "id": "dekXHjlZK28L"
   },
   "source": [
    "Algumas operações básicas que podem ser realizadas com um DataFrame incluem:"
   ]
  },
  {
   "cell_type": "code",
   "execution_count": null,
   "metadata": {
    "colab": {
     "base_uri": "https://localhost:8080/"
    },
    "executionInfo": {
     "elapsed": 13,
     "status": "ok",
     "timestamp": 1737599947523,
     "user": {
      "displayName": "Labofis FAOC",
      "userId": "01325752558099611761"
     },
     "user_tz": 180
    },
    "id": "VxOYFCNLK28L",
    "outputId": "0a5d66f9-6e70-4f69-a7be-8ac50d4cd5a2"
   },
   "outputs": [],
   "source": [
    "# Obtendo informações gerais\n",
    "print(df1.info())  # Informações sobre o DataFrame\n",
    "print(df1.describe())  # Estatísticas descritivas\n",
    "print(df1.shape) # Dimensões do DataFrame\n",
    "print(df1.keys()) # Colunas do DataFrame"
   ]
  },
  {
   "cell_type": "code",
   "execution_count": null,
   "metadata": {
    "colab": {
     "base_uri": "https://localhost:8080/"
    },
    "executionInfo": {
     "elapsed": 10,
     "status": "ok",
     "timestamp": 1737599947523,
     "user": {
      "displayName": "Labofis FAOC",
      "userId": "01325752558099611761"
     },
     "user_tz": 180
    },
    "id": "nkLIGva_K28M",
    "outputId": "288a5359-2d02-4a0b-833e-f5cdd48bddd9"
   },
   "outputs": [],
   "source": [
    "# Visualizando as primeiras e últimas linhas\n",
    "print(df1.head())  # Primeiras 5 linhas\n",
    "print(df1.tail())  # Últimas 5 linhas"
   ]
  },
  {
   "cell_type": "code",
   "execution_count": null,
   "metadata": {
    "colab": {
     "base_uri": "https://localhost:8080/"
    },
    "executionInfo": {
     "elapsed": 7,
     "status": "ok",
     "timestamp": 1737599947523,
     "user": {
      "displayName": "Labofis FAOC",
      "userId": "01325752558099611761"
     },
     "user_tz": 180
    },
    "id": "jRYRFEcQK28N",
    "outputId": "e9ef269b-31cb-47ac-a503-36229736262c"
   },
   "outputs": [],
   "source": [
    "# Selecionando uma coluna\n",
    "print(df1['Salinidade'])  # Seleciona a coluna 'Salinidade'\n",
    "\n",
    "# Selecionando várias colunas\n",
    "print(df1[['Temperatura', 'Salinidade']])  # Seleciona as colunas 'Temperatura' e 'Salinidade'"
   ]
  },
  {
   "cell_type": "code",
   "execution_count": null,
   "metadata": {
    "colab": {
     "base_uri": "https://localhost:8080/"
    },
    "executionInfo": {
     "elapsed": 246,
     "status": "ok",
     "timestamp": 1737599947764,
     "user": {
      "displayName": "Labofis FAOC",
      "userId": "01325752558099611761"
     },
     "user_tz": 180
    },
    "id": "GxLdoTzIK28N",
    "outputId": "313eea83-153f-4637-bec3-b7a4d49bc10c"
   },
   "outputs": [],
   "source": [
    "# Filtrando linhas\n",
    "print(df1[df1['Temperatura'] > 25])  # Filtra linhas onde a temperatura é maior que 25"
   ]
  },
  {
   "cell_type": "code",
   "execution_count": null,
   "metadata": {
    "colab": {
     "base_uri": "https://localhost:8080/"
    },
    "executionInfo": {
     "elapsed": 23,
     "status": "ok",
     "timestamp": 1737599947764,
     "user": {
      "displayName": "Labofis FAOC",
      "userId": "01325752558099611761"
     },
     "user_tz": 180
    },
    "id": "-5UHv8XZK28O",
    "outputId": "e800f2ae-807e-4d4c-df74-8fe3a9dc5054"
   },
   "outputs": [],
   "source": [
    "# Adicionando uma nova coluna\n",
    "df1['Elevação'] = [0.2, 0.5, 0.7, 0.4]\n",
    "print(df1)"
   ]
  },
  {
   "cell_type": "code",
   "execution_count": null,
   "metadata": {
    "colab": {
     "base_uri": "https://localhost:8080/"
    },
    "executionInfo": {
     "elapsed": 20,
     "status": "ok",
     "timestamp": 1737599947764,
     "user": {
      "displayName": "Labofis FAOC",
      "userId": "01325752558099611761"
     },
     "user_tz": 180
    },
    "id": "GOpN8f9dK28O",
    "outputId": "131e43cf-a957-4f08-9d2c-ba42af4e9f8d"
   },
   "outputs": [],
   "source": [
    "# Adicionando uma nova linha\n",
    "dados_novos = {'Região': ['RJ', 'SP', 'PR', 'SC'], 'Latitude': [-23, -24, -26, -27],\n",
    "               'Longitude': [-44, -45, -48, -48], 'Temperatura': [26, 24, 20, 18],\n",
    "               'Salinidade': [35, 37, 33, float('nan')], 'Elevação': [0.3, 0.4, float('nan'), float('nan')]} # Dicionário com novos dados\n",
    "\n",
    "df_dados_novos = pd.DataFrame(dados_novos) # Transforma o dicionário em um DataFrame\n",
    "\n",
    "df2 = pd.concat([df1, df_dados_novos], ignore_index=True) # Concatena os dois DataFrames\n",
    "print(df2)"
   ]
  },
  {
   "cell_type": "markdown",
   "metadata": {
    "id": "mQUNgEMaK28P"
   },
   "source": [
    "### Manipulando dados"
   ]
  },
  {
   "cell_type": "markdown",
   "metadata": {
    "id": "B_igVdZfK28P"
   },
   "source": [
    "Aqui estão algumas operações úteis de manipulação de dados:"
   ]
  },
  {
   "cell_type": "code",
   "execution_count": null,
   "metadata": {
    "colab": {
     "base_uri": "https://localhost:8080/"
    },
    "executionInfo": {
     "elapsed": 18,
     "status": "ok",
     "timestamp": 1737599947764,
     "user": {
      "displayName": "Labofis FAOC",
      "userId": "01325752558099611761"
     },
     "user_tz": 180
    },
    "id": "9Hhrx05zK28P",
    "outputId": "f207cebd-fa34-4cd2-cd8e-610ed46abd5b"
   },
   "outputs": [],
   "source": [
    "# Classificando os dados\n",
    "df2_sorted = df2.sort_values(by='Temperatura') # Classifica os valores pela coluna de temperatura\n",
    "print(df2_sorted)"
   ]
  },
  {
   "cell_type": "code",
   "execution_count": null,
   "metadata": {
    "colab": {
     "base_uri": "https://localhost:8080/"
    },
    "executionInfo": {
     "elapsed": 17,
     "status": "ok",
     "timestamp": 1737599947765,
     "user": {
      "displayName": "Labofis FAOC",
      "userId": "01325752558099611761"
     },
     "user_tz": 180
    },
    "id": "VwZlworIK28P",
    "outputId": "d7d0642c-8120-47fd-b353-73e6001a9885"
   },
   "outputs": [],
   "source": [
    "# Agrupando os dados\n",
    "grouped = df2.groupby('Região').mean()  # Agrupa por região e calcula a média de todas as variáveis\n",
    "print(grouped)"
   ]
  },
  {
   "cell_type": "code",
   "execution_count": null,
   "metadata": {
    "colab": {
     "base_uri": "https://localhost:8080/"
    },
    "executionInfo": {
     "elapsed": 15,
     "status": "ok",
     "timestamp": 1737599947765,
     "user": {
      "displayName": "Labofis FAOC",
      "userId": "01325752558099611761"
     },
     "user_tz": 180
    },
    "id": "5LKcbMTmK28Q",
    "outputId": "9e1759c5-e21a-44b7-8573-f2043e2d3018"
   },
   "outputs": [],
   "source": [
    "# Trabalhando com dados ausentes (NaN = Not a Number)\n",
    "print(df2.dropna())  # Remove linhas com dados ausentes\n",
    "print(df2.fillna(99999))  # Substitui dados ausentes por um valor específico"
   ]
  },
  {
   "cell_type": "markdown",
   "metadata": {
    "id": "_A9TPjteK28Q"
   },
   "source": [
    "### Salvando dados"
   ]
  },
  {
   "cell_type": "code",
   "execution_count": 42,
   "metadata": {
    "executionInfo": {
     "elapsed": 13,
     "status": "ok",
     "timestamp": 1737599947765,
     "user": {
      "displayName": "Labofis FAOC",
      "userId": "01325752558099611761"
     },
     "user_tz": 180
    },
    "id": "th_DkCkiK28Q"
   },
   "outputs": [],
   "source": [
    "# Salvando o DataFrame em um arquivo .csv:\n",
    "df2.to_csv('teste.csv', index=False)"
   ]
  },
  {
   "cell_type": "markdown",
   "metadata": {
    "id": "s8epUSqrK28R"
   },
   "source": [
    "### Lendo arquivos no DataFrame"
   ]
  },
  {
   "cell_type": "markdown",
   "metadata": {
    "id": "OOeapNw3K28R"
   },
   "source": [
    "É possível ler dados de arquivos `.csv`, `.xsl`, `.txt`, entre outros formatos. Aqui está um exemplo de como ler um arquivo `.csv`:"
   ]
  },
  {
   "cell_type": "code",
   "execution_count": null,
   "metadata": {
    "colab": {
     "base_uri": "https://localhost:8080/"
    },
    "executionInfo": {
     "elapsed": 276,
     "status": "ok",
     "timestamp": 1737599948028,
     "user": {
      "displayName": "Labofis FAOC",
      "userId": "01325752558099611761"
     },
     "user_tz": 180
    },
    "id": "BDCTrc50K28R",
    "outputId": "5980f49d-c6d2-46dd-9e5e-5d72d66ea3b2"
   },
   "outputs": [],
   "source": [
    "# Fazendo download de um conjunto de dados armazenado no GitHub\n",
    "!curl -LJO https://raw.githubusercontent.com/labofis/labofis_tutoriais/refs/heads/main/dados_pirata.csv\n",
    "\n",
    "# Lendo o arquivo\n",
    "df_pirata = pd.read_csv('dados_pirata.csv')\n",
    "print(df_pirata)"
   ]
  },
  {
   "cell_type": "markdown",
   "metadata": {
    "id": "ceGkF4PiK28R"
   },
   "source": [
    "### Organizando os dados"
   ]
  },
  {
   "cell_type": "code",
   "execution_count": null,
   "metadata": {
    "colab": {
     "base_uri": "https://localhost:8080/"
    },
    "executionInfo": {
     "elapsed": 10,
     "status": "ok",
     "timestamp": 1737599948028,
     "user": {
      "displayName": "Labofis FAOC",
      "userId": "01325752558099611761"
     },
     "user_tz": 180
    },
    "id": "no1UlOfpK28R",
    "outputId": "fdf51ba7-a812-447c-ddb7-73936c8991fe"
   },
   "outputs": [],
   "source": [
    "# Criando uma coluna do tipo datetime a partir da coluna 'datahora'\n",
    "df_pirata['datetime'] = pd.to_datetime(df_pirata['datahora'], utc=True) # Devido o formato dos dados de tempo (00+00), torna-se necessário o uso do parâmetro 'utc'\n",
    "\n",
    "# Indexando a coluna 'datetime'\n",
    "df_pirata.index = df_pirata['datetime']\n",
    "\n",
    "# Removendo as colunas não utilizadas\n",
    "df_pirata = df_pirata.drop(['Unnamed: 0', 'datahora', 'datetime'], axis=1)\n",
    "\n",
    "print(df_pirata)"
   ]
  },
  {
   "cell_type": "markdown",
   "metadata": {
    "id": "DXJDQMRWK28S"
   },
   "source": [
    "### Plotando os dados"
   ]
  },
  {
   "cell_type": "code",
   "execution_count": null,
   "metadata": {
    "colab": {
     "base_uri": "https://localhost:8080/",
     "height": 465
    },
    "executionInfo": {
     "elapsed": 580,
     "status": "ok",
     "timestamp": 1737599948601,
     "user": {
      "displayName": "Labofis FAOC",
      "userId": "01325752558099611761"
     },
     "user_tz": 180
    },
    "id": "t0e5qAS0K28S",
    "outputId": "99562299-0e49-4cf7-b371-9125397de561"
   },
   "outputs": [],
   "source": [
    "# Plotando todas as colunas em um único gráfico (index no eixo x e colunas no eixo y)\n",
    "df_pirata.plot()"
   ]
  },
  {
   "cell_type": "code",
   "execution_count": null,
   "metadata": {
    "colab": {
     "base_uri": "https://localhost:8080/",
     "height": 461
    },
    "executionInfo": {
     "elapsed": 567,
     "status": "ok",
     "timestamp": 1737599949164,
     "user": {
      "displayName": "Labofis FAOC",
      "userId": "01325752558099611761"
     },
     "user_tz": 180
    },
    "id": "DuhAITrhK28S",
    "outputId": "31dd30e5-d89a-4592-d343-dd401a2ae66b"
   },
   "outputs": [],
   "source": [
    "# Plotando apenas a coluna de salinidade (index no eixo x e salinidade no eixo y)\n",
    "df_pirata['s_1'].plot()"
   ]
  },
  {
   "cell_type": "markdown",
   "metadata": {
    "id": "lNBf83XrK28S"
   },
   "source": [
    "Conforme apresentado, a biblioteca Pandas permite a criação de gráficos simples e rápidos, sendo útil para visualizações iniciais dos dados. No entanto, para gráficos mais elaborados e personalizados, é comum recorrer à biblioteca Matplotlib. É possível utilizar ambas as bibliotecas em conjunto, com o Pandas responsável pela plotagem e o Matplotlib pela personalização, ou ainda optar por usar exclusivamente o Matplotlib para um controle mais completo sobre o gráfico."
   ]
  },
  {
   "cell_type": "markdown",
   "metadata": {
    "id": "2GcxSxmlK28T"
   },
   "source": [
    "### Conclusão"
   ]
  },
  {
   "cell_type": "markdown",
   "metadata": {
    "id": "JgzzFIwNK28T"
   },
   "source": [
    "Este tutorial apresenta conceitos fundamentais da biblioteca Pandas, uma ferramenta poderosa para manipulação e análise de dados em Python. Com esse conteúdo, você deve ser capaz de criar DataFrames, ler dados de arquivos (como `.csv`) e realizar operações básicas. Para mais informações, recomenda-se consultar a [documentação oficial do Pandas](https://pandas.pydata.org/docs/index.html)."
   ]
  }
 ],
 "metadata": {
  "colab": {
   "provenance": []
  },
  "kernelspec": {
   "display_name": "labofis",
   "language": "python",
   "name": "python3"
  },
  "language_info": {
   "codemirror_mode": {
    "name": "ipython",
    "version": 3
   },
   "file_extension": ".py",
   "mimetype": "text/x-python",
   "name": "python",
   "nbconvert_exporter": "python",
   "pygments_lexer": "ipython3",
   "version": "3.11.11"
  }
 },
 "nbformat": 4,
 "nbformat_minor": 0
}
