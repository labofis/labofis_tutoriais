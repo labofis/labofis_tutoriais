{
 "cells": [
  {
   "cell_type": "markdown",
   "metadata": {},
   "source": [
    "# Introdução ao xarray"
   ]
  },
  {
   "cell_type": "markdown",
   "metadata": {},
   "source": [
    "`xarray` é particularmente útil para manipular, analisar e visualizar dados multidimensionais que têm coordenadas rotuladas e metadados. Ele se integra bem com outras bibliotecas do ecossistema científico Python, como `NumPy`, `pandas` e `Matplotlib`."
   ]
  },
  {
   "cell_type": "markdown",
   "metadata": {},
   "source": [
    "### Instalação"
   ]
  },
  {
   "cell_type": "markdown",
   "metadata": {},
   "source": [
    "Para instalar o xarray, você pode usar o pip:\n",
    "\n",
    "`pip install xarray`\n",
    "\n",
    "Ou instalar pelo conda:\n",
    "\n",
    "`conda install conda-forge::xarray`"
   ]
  },
  {
   "cell_type": "markdown",
   "metadata": {},
   "source": [
    "#### Importando xarray\n",
    "\n",
    "Para começar a usar o xarray, você precisa importá-lo:"
   ]
  },
  {
   "cell_type": "code",
   "execution_count": null,
   "metadata": {},
   "outputs": [],
   "source": [
    "import xarray as xr\n",
    "import numpy as np\n",
    "import scipy"
   ]
  },
  {
   "cell_type": "markdown",
   "metadata": {},
   "source": [
    "### Estruturas de Dados Básicas"
   ]
  },
  {
   "cell_type": "markdown",
   "metadata": {},
   "source": [
    "O `xarray` possui duas estruturas de dados principais: `DataArray` e `Dataset`."
   ]
  },
  {
   "cell_type": "markdown",
   "metadata": {},
   "source": [
    "### DataArray\n",
    "\n",
    "Um `DataArray` é um array N-dimensional com coordenadas associadas a cada dimensão."
   ]
  },
  {
   "cell_type": "code",
   "execution_count": null,
   "metadata": {},
   "outputs": [],
   "source": [
    "# Criando um DataArray simples\n",
    "data = np.random.rand(4, 3)\n",
    "data_array = xr.DataArray(data, dims=[\"x\", \"y\"], coords={\"x\": [10, 20, 30, 40], \"y\": [\"a\", \"b\", \"c\"]})\n",
    "data_array"
   ]
  },
  {
   "cell_type": "markdown",
   "metadata": {},
   "source": [
    "#### Manipulação de Dados\n",
    "\n",
    "Seleção e Indexação\n",
    "\n",
    "Você pode selecionar dados usando métodos como `sel`, `isel` e fatiamento padrão como o `slice`."
   ]
  },
  {
   "cell_type": "code",
   "execution_count": null,
   "metadata": {},
   "outputs": [],
   "source": [
    "# Selecionando dados com coordenadas\n",
    "data_array.sel(x=20, y=\"b\")\n"
   ]
  },
  {
   "cell_type": "code",
   "execution_count": null,
   "metadata": {},
   "outputs": [],
   "source": [
    "# Selecionando dados com índices\n",
    "data_array.isel(x=1, y=1)\n"
   ]
  },
  {
   "cell_type": "code",
   "execution_count": null,
   "metadata": {},
   "outputs": [],
   "source": [
    "# Fatiamento\n",
    "data_array.sel(x=slice(10, 30))\n"
   ]
  },
  {
   "cell_type": "markdown",
   "metadata": {},
   "source": [
    "#### Operações Matemáticas"
   ]
  },
  {
   "cell_type": "code",
   "execution_count": null,
   "metadata": {},
   "outputs": [],
   "source": [
    "# Operações element-wise\n",
    "data_array + 10\n",
    "\n"
   ]
  },
  {
   "cell_type": "code",
   "execution_count": null,
   "metadata": {},
   "outputs": [],
   "source": [
    "data_array * 2\n"
   ]
  },
  {
   "cell_type": "markdown",
   "metadata": {},
   "source": [
    "#### Aplicando funções matemáticas"
   ]
  },
  {
   "cell_type": "code",
   "execution_count": null,
   "metadata": {},
   "outputs": [],
   "source": [
    "np.sin(data_array)"
   ]
  },
  {
   "cell_type": "code",
   "execution_count": null,
   "metadata": {},
   "outputs": [],
   "source": [
    "data_array.mean(dim=\"x\")"
   ]
  },
  {
   "cell_type": "markdown",
   "metadata": {},
   "source": [
    "### Dataset\n",
    "\n",
    "Um `Dataset` é um contêiner de múltiplos `DataArrays`, análogos a um DataFrame do pandas."
   ]
  },
  {
   "cell_type": "code",
   "execution_count": null,
   "metadata": {},
   "outputs": [],
   "source": [
    "# Criando um Dataset\n",
    "data1 = xr.DataArray(np.random.rand(4, 3), dims=[\"x\", \"y\"], coords={\"x\": [10, 20, 30, 40], \"y\": [\"a\", \"b\", \"c\"]})\n",
    "data2 = xr.DataArray(np.random.rand(4), dims=[\"x\"], coords={\"x\": [10, 20, 30, 40]})\n",
    "\n",
    "dataset = xr.Dataset({\"data1\": data1, \"data2\": data2})\n",
    "dataset\n"
   ]
  },
  {
   "cell_type": "markdown",
   "metadata": {},
   "source": [
    "#### Seleção e Indexação em `Dataset`\n",
    "\n",
    "Você pode selecionar dados de um Dataset de forma semelhante a um `DataArray`."
   ]
  },
  {
   "cell_type": "code",
   "execution_count": null,
   "metadata": {},
   "outputs": [],
   "source": [
    "# Selecionando um DataArray específico\n",
    "dataset[\"data1\"]"
   ]
  },
  {
   "cell_type": "code",
   "execution_count": null,
   "metadata": {},
   "outputs": [],
   "source": [
    "# Selecionando dados com coordenadas\n",
    "dataset.sel(x=20)"
   ]
  },
  {
   "cell_type": "code",
   "execution_count": null,
   "metadata": {},
   "outputs": [],
   "source": [
    "# Selecionando dados com índices\n",
    "dataset.isel(x=1)"
   ]
  },
  {
   "cell_type": "markdown",
   "metadata": {},
   "source": [
    "#### Adicionando e Removendo Variáveis em Dataset"
   ]
  },
  {
   "cell_type": "code",
   "execution_count": null,
   "metadata": {},
   "outputs": [],
   "source": [
    "# Adicionando uma variável\n",
    "dataset[\"data3\"] = (\"x\", [7, 8, 9, 10])\n",
    "dataset\n",
    "\n"
   ]
  },
  {
   "cell_type": "code",
   "execution_count": null,
   "metadata": {},
   "outputs": [],
   "source": [
    "# Removendo uma variável\n",
    "dataset = dataset.drop_vars(\"data3\")\n",
    "dataset"
   ]
  },
  {
   "cell_type": "markdown",
   "metadata": {},
   "source": [
    "### Aplicando Funções a Datasets"
   ]
  },
  {
   "cell_type": "code",
   "execution_count": null,
   "metadata": {},
   "outputs": [],
   "source": [
    "dataset.mean(dim=\"x\")"
   ]
  },
  {
   "cell_type": "markdown",
   "metadata": {},
   "source": [
    "### Leitura e Escrita de Arquivos\n",
    "\n",
    "`xarray` suporta leitura e escrita de vários formatos de arquivo, como NetCDF, HDF5, GRIB, entre outros."
   ]
  },
  {
   "cell_type": "code",
   "execution_count": null,
   "metadata": {},
   "outputs": [],
   "source": [
    "# Salvando um Dataset como um arquivo NetCDF\n",
    "dataset.to_netcdf(\"dataset.nc\")"
   ]
  },
  {
   "cell_type": "code",
   "execution_count": null,
   "metadata": {},
   "outputs": [],
   "source": [
    "# Carregando um Dataset de um arquivo NetCDF\n",
    "loaded_dataset = xr.open_dataset(\"dataset.nc\")\n",
    "print(loaded_dataset)"
   ]
  },
  {
   "cell_type": "markdown",
   "metadata": {},
   "source": [
    "### Visualização de Dataset\n",
    "\n",
    "Você pode visualizar variáveis de um `Dataset` de forma semelhante a um `DataArray`."
   ]
  },
  {
   "cell_type": "code",
   "execution_count": null,
   "metadata": {},
   "outputs": [],
   "source": [
    "# Plotando uma variável de um Dataset\n",
    "dataset[\"data1\"].plot()\n"
   ]
  },
  {
   "cell_type": "markdown",
   "metadata": {},
   "source": [
    "## Gerando um `DataArray` como se fosse uma variavel de temperatura em Kelvin"
   ]
  },
  {
   "cell_type": "markdown",
   "metadata": {},
   "source": [
    "Primeiro vamos criar um NumPy array com valores próximos a um campo de temperatura em Kelvin"
   ]
  },
  {
   "cell_type": "code",
   "execution_count": null,
   "metadata": {},
   "outputs": [],
   "source": [
    "data = 283 + 5 * np.random.randn(5, 3, 4)\n",
    "data"
   ]
  },
  {
   "cell_type": "markdown",
   "metadata": {},
   "source": [
    "Uma forma para transformar a variável `data` que criamos com o NumPy array em um `DataArray` é usar o método `DataArray` do Xarray"
   ]
  },
  {
   "cell_type": "code",
   "execution_count": null,
   "metadata": {},
   "outputs": [],
   "source": [
    "temp = xr.DataArray(data)\n",
    "temp"
   ]
  },
  {
   "cell_type": "markdown",
   "metadata": {},
   "source": [
    "Observe duas coisas:\n",
    "\n",
    " - Como os arrays NumPy não têm nomes de dimensão, nosso novo DataArray assume nomes de dimensão de espaço reservado, neste caso dim_0, dim_1 e dim_2. Em nosso próximo exemplo, demonstramos como adicionar nomes de dimensão mais significativos.\n",
    "\n",
    " - Se você estiver visualizando esta página como um Jupyter Notebook, executar o exemplo acima gera uma exibição rica dos dados contidos em nosso DataArray. Esta exibição vem com muitas maneiras de explorar os dados; por exemplo, clicar no símbolo do array expande ou recolhe a exibição de dados."
   ]
  },
  {
   "cell_type": "markdown",
   "metadata": {},
   "source": [
    "### Alterando os nomes das dimensões e coordenadas"
   ]
  },
  {
   "cell_type": "markdown",
   "metadata": {},
   "source": [
    "Uma das principais características do Xarray está no uso de dimensões nomeadas. Para aproveitar ao máximo essa funcionalidade, é importante fornecer nomes mais significativos de dimensão. Isso pode ser feito ao criar um `DataArray`, passando uma lista ordenada de nomes para o método `DataArray` através do argumento de palavra-chave `dims`"
   ]
  },
  {
   "cell_type": "code",
   "execution_count": null,
   "metadata": {},
   "outputs": [],
   "source": [
    "temp = xr.DataArray(data, dims=['time', 'lat', 'lon'])\n",
    "temp"
   ]
  },
  {
   "cell_type": "markdown",
   "metadata": {},
   "source": [
    "Este `DataArray` já oferece vantagens em comparação com um array do NumPy, pois inclui nomes para cada uma das suas dimensões (ou eixos, na terminologia do NumPy). Uma melhoria adicional é a possibilidade de associar arrays de coordenadas aos dados quando o `DataArray` é criado. No exemplo a seguir, vamos demonstrar como criar arrays do NumPy que representam os valores das coordenadas para cada dimensão do `DataArray` e como vincular esses arrays de coordenadas aos dados dentro do `DataArray`."
   ]
  },
  {
   "cell_type": "markdown",
   "metadata": {},
   "source": [
    "Criando as coordenadas de espaço e tempo\n",
    "\n",
    "Neste exemplo, vamos usar o Pandas para criar o array do tempo. Este array será usado em um exemplo posterior para adicionar ao `DataArray` como uma coordenada nomeada, denominada time."
   ]
  },
  {
   "cell_type": "code",
   "execution_count": null,
   "metadata": {},
   "outputs": [],
   "source": [
    "import pandas as pd\n",
    "times = pd.date_range('2024-01-01', periods=5)\n",
    "times"
   ]
  },
  {
   "cell_type": "markdown",
   "metadata": {},
   "source": [
    "Criando coordenadas para a latitude e longitude"
   ]
  },
  {
   "cell_type": "code",
   "execution_count": null,
   "metadata": {},
   "outputs": [],
   "source": [
    "lons = np.linspace(-44, -42.5, 4)\n",
    "lats = np.linspace(-22.5, -23.5, 3)"
   ]
  },
  {
   "cell_type": "markdown",
   "metadata": {},
   "source": [
    "### Criando o `DataArray` com as informações completas"
   ]
  },
  {
   "cell_type": "markdown",
   "metadata": {},
   "source": [
    "Neste exemplo, estamos criando um novo `DataArray`. Assim como no exemplo anterior, utilizamos o argumento de palavra-chave `dims` para definir os nomes das dimensões; no entanto, desta vez, também incluímos os arrays de coordenadas por meio do argumento de palavra-chave `coords`:"
   ]
  },
  {
   "cell_type": "code",
   "execution_count": null,
   "metadata": {},
   "outputs": [],
   "source": [
    "temp = xr.DataArray(data, coords=[times, lats, lons], dims=['time', 'lat', 'lon'])\n",
    "temp"
   ]
  },
  {
   "cell_type": "markdown",
   "metadata": {},
   "source": [
    "Adicionando atributos"
   ]
  },
  {
   "cell_type": "code",
   "execution_count": null,
   "metadata": {},
   "outputs": [],
   "source": [
    "temp.attrs['units'] = 'kelvin'\n",
    "temp.attrs['standard_name'] = 'air_temperature'\n",
    "\n",
    "temp"
   ]
  },
  {
   "cell_type": "markdown",
   "metadata": {},
   "source": [
    "##### Problemática com a preservação dos atributos "
   ]
  },
  {
   "cell_type": "markdown",
   "metadata": {},
   "source": [
    "Quando realizamos uma operação matemática em um `DataArray`, os arrays de coordenadas permanecem associados a ele, mas os metadados de atributo são eliminados. Isso ocorre porque esses atributos podem não representar corretamente os metadados após uma operação aritmética qualquer.\n",
    "\n",
    "No exemplo a seguir, vamos converter os valores do `DataArray` de Kelvin para graus Celsius. Preste atenção aos atributos na visualização avançada do Jupyter abaixo. (Se você não estiver visualizando esta página como um notebook do Jupyter, consulte a documentação do Xarray para aprender como acessar os atributos.)"
   ]
  },
  {
   "cell_type": "code",
   "execution_count": null,
   "metadata": {},
   "outputs": [],
   "source": [
    "temp_in_celsius = temp - 273.15\n",
    "temp_in_celsius"
   ]
  },
  {
   "cell_type": "markdown",
   "metadata": {},
   "source": [
    "### `Dataset`\n",
    "\n",
    "Como comentamos, um `Dataset` é um container de `DataArray`.\n",
    "\n",
    "No próximo exemplo, vamos criar um `DataArray` correspondente a Pressão Atmosférica de forma bem similar ao que utilizamos anteriormente."
   ]
  },
  {
   "cell_type": "code",
   "execution_count": null,
   "metadata": {},
   "outputs": [],
   "source": [
    "pressure_data = 1000.0 + 5 * np.random.randn(5, 3, 4)\n",
    "pressure = xr.DataArray(\n",
    "    pressure_data, coords=[times, lats, lons], dims=['time', 'lat', 'lon']\n",
    ")\n",
    "pressure.attrs['units'] = 'hPa'\n",
    "pressure.attrs['standard_name'] = 'air_pressure'\n",
    "\n",
    "pressure"
   ]
  },
  {
   "cell_type": "markdown",
   "metadata": {},
   "source": [
    "Antes de criarmos um objeto `Dataset`, é necessário nomear cada um dos objetos `DataArray` que serão incorporados a ele.\n",
    "\n",
    "Para atribuir nomes aos `DataArrays` que faremos parte do nosso `Dataset`, podemos configurar um dicionário em Python, como ilustrado no próximo exemplo. Em seguida, podemos passar esse dicionário para o método `Dataset` usando o argumento de palavra-chave `data_vars`, o que resulta na criação de um novo `Dataset` que inclui ambos os `DataArrays`."
   ]
  },
  {
   "cell_type": "code",
   "execution_count": null,
   "metadata": {},
   "outputs": [],
   "source": [
    "ds = xr.Dataset(data_vars={'Temperature': temp, 'Pressure': pressure})\n",
    "ds"
   ]
  },
  {
   "cell_type": "markdown",
   "metadata": {},
   "source": [
    "### Acessando as variáveis dentro do `Dataset`"
   ]
  },
  {
   "cell_type": "markdown",
   "metadata": {},
   "source": [
    "Existem algumas formas para acessar a variável dentro de um `Dataset`"
   ]
  },
  {
   "cell_type": "code",
   "execution_count": null,
   "metadata": {},
   "outputs": [],
   "source": [
    "ds.Pressure"
   ]
  },
  {
   "cell_type": "markdown",
   "metadata": {},
   "source": [
    "Ou..."
   ]
  },
  {
   "cell_type": "code",
   "execution_count": null,
   "metadata": {},
   "outputs": [],
   "source": [
    "ds['Pressure']"
   ]
  },
  {
   "cell_type": "markdown",
   "metadata": {},
   "source": [
    "### Seccionando um `Dataset`"
   ]
  },
  {
   "cell_type": "markdown",
   "metadata": {},
   "source": [
    "Novamente, existem diversas formas de seccionar um parte de um `Dataframe`. \n",
    "\n",
    "O primeiro exemplo é uma forma similar a um NumPy array para janeiro de 2024"
   ]
  },
  {
   "cell_type": "code",
   "execution_count": null,
   "metadata": {},
   "outputs": [],
   "source": [
    "indexed_selection = temp[1, :, :]  \n",
    "indexed_selection"
   ]
  },
  {
   "cell_type": "markdown",
   "metadata": {},
   "source": [
    "Outra forma é utilizando o comando `.sel()` para selecionar o mesmo período"
   ]
  },
  {
   "cell_type": "code",
   "execution_count": null,
   "metadata": {},
   "outputs": [],
   "source": [
    "named_selection = temp.sel(time='2024-01-02')\n",
    "named_selection"
   ]
  },
  {
   "cell_type": "markdown",
   "metadata": {},
   "source": [
    "Esse método gera o mesmo resultado que a seleção por índice, mas oferece algumas vantagens:\n",
    " - Não precisamos ter conhecimento sobre como o array foi criado ou armazenado.\n",
    " - Nosso código não depende do número de dimensões envolvidas.\n",
    " - O código é muito mais claro."
   ]
  },
  {
   "cell_type": "markdown",
   "metadata": {},
   "source": [
    "## Conclusão\n",
    "\n",
    "Este tutorial básico deve fornecer uma introdução suficiente para começar a usar o xarray para manipulação e análise de dados multidimensionais. Para mais informações e funcionalidades avançadas, recomendo consultar a [documentação oficial do xarray](https://docs.xarray.dev/en/stable/)."
   ]
  },
  {
   "cell_type": "markdown",
   "metadata": {},
   "source": []
  }
 ],
 "metadata": {
  "kernelspec": {
   "display_name": "labofis",
   "language": "python",
   "name": "python3"
  },
  "language_info": {
   "codemirror_mode": {
    "name": "ipython",
    "version": 3
   },
   "file_extension": ".py",
   "mimetype": "text/x-python",
   "name": "python",
   "nbconvert_exporter": "python",
   "pygments_lexer": "ipython3",
   "version": "3.11.9"
  }
 },
 "nbformat": 4,
 "nbformat_minor": 2
}
