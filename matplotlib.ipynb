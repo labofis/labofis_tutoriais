{
 "cells": [
  {
   "cell_type": "markdown",
   "metadata": {
    "id": "xp59BQ3G16Fi"
   },
   "source": [
    "# Introdução ao Matplotlib"
   ]
  },
  {
   "cell_type": "markdown",
   "metadata": {
    "id": "Z2g2oJLu16Fm"
   },
   "source": [
    "Matplotlib é uma biblioteca usada para criação de gráficos e visualizações de dados em Python."
   ]
  },
  {
   "cell_type": "markdown",
   "metadata": {
    "id": "PrfVwxOc16Fn"
   },
   "source": [
    "### Instalando Matplotlib"
   ]
  },
  {
   "cell_type": "markdown",
   "metadata": {
    "id": "KrtoBTCl16Fn"
   },
   "source": [
    "Para instalar o Matplotlib, você pode usar o pip:\n",
    "\n",
    "`pip install matplotlib`\n",
    "\n",
    "A biblioteca também está disponível para instalação pelo canal principal do Anaconda:\n",
    "\n",
    "`conda install matplotlib`\n",
    "\n",
    "E através do canal da comunidade conda-forge:\n",
    "\n",
    "`conda install -c conda-forge matplotlib`"
   ]
  },
  {
   "cell_type": "markdown",
   "metadata": {
    "id": "Aw8Iy0-A16Fo"
   },
   "source": [
    "### Importando Matplotlib"
   ]
  },
  {
   "cell_type": "markdown",
   "metadata": {
    "id": "DViBsHqa16Fp"
   },
   "source": [
    "Para começar a usar o Matplotlib, você precisa importá-lo. É importante pontuar que a maioria dos utilitários de Matplotlib fica no submódulo `pyplot` e a convenção é importá-lo como plt:"
   ]
  },
  {
   "cell_type": "code",
   "execution_count": 2,
   "metadata": {
    "executionInfo": {
     "elapsed": 273,
     "status": "ok",
     "timestamp": 1738016445980,
     "user": {
      "displayName": "Labofis FAOC",
      "userId": "01325752558099611761"
     },
     "user_tz": 180
    },
    "id": "jmcCsZLJ16GD"
   },
   "outputs": [],
   "source": [
    "import matplotlib.pyplot as plt"
   ]
  },
  {
   "cell_type": "markdown",
   "metadata": {
    "id": "l3-0SfCw16GG"
   },
   "source": [
    "### Criando gráficos simples"
   ]
  },
  {
   "cell_type": "markdown",
   "metadata": {
    "id": "ZPYE2b0N16GH"
   },
   "source": [
    "##### 1. Gráfico de linha"
   ]
  },
  {
   "cell_type": "code",
   "execution_count": null,
   "metadata": {
    "colab": {
     "base_uri": "https://localhost:8080/",
     "height": 472
    },
    "executionInfo": {
     "elapsed": 855,
     "status": "ok",
     "timestamp": 1738016447120,
     "user": {
      "displayName": "Labofis FAOC",
      "userId": "01325752558099611761"
     },
     "user_tz": 180
    },
    "id": "SuZbeSxZ16GI",
    "outputId": "2df5f341-fd8b-4910-bb9e-56407db7662f"
   },
   "outputs": [],
   "source": [
    "# Dados\n",
    "x = [1, 2, 3, 4, 5]\n",
    "y = [2, 3, 5, 7, 11]\n",
    "\n",
    "# Criando o gráfico\n",
    "plt.plot(x, y)\n",
    "\n",
    "# Adicionando título e rótulos\n",
    "plt.title('Gráfico de Linha')\n",
    "plt.xlabel('Eixo X')\n",
    "plt.ylabel('Eixo Y')\n",
    "\n",
    "# Exibindo o gráfico\n",
    "plt.show()"
   ]
  },
  {
   "cell_type": "markdown",
   "metadata": {
    "id": "7gnCVEqB16GK"
   },
   "source": [
    "##### 2. Gráfico de barras"
   ]
  },
  {
   "cell_type": "code",
   "execution_count": null,
   "metadata": {
    "colab": {
     "base_uri": "https://localhost:8080/",
     "height": 472
    },
    "executionInfo": {
     "elapsed": 431,
     "status": "ok",
     "timestamp": 1738016447549,
     "user": {
      "displayName": "Labofis FAOC",
      "userId": "01325752558099611761"
     },
     "user_tz": 180
    },
    "id": "xaOdyQ5v16GL",
    "outputId": "ff2d6571-0fe7-4b23-c55b-02997b0f1d45"
   },
   "outputs": [],
   "source": [
    "# Dados\n",
    "categorias = ['A', 'B', 'C', 'D']\n",
    "valores = [5, 7, 3, 8]\n",
    "\n",
    "# Criando o gráfico de barras\n",
    "plt.bar(categorias, valores)\n",
    "\n",
    "# Adicionando título e rótulos\n",
    "plt.title('Gráfico de Barras')\n",
    "plt.xlabel('Categorias')\n",
    "plt.ylabel('Valores')\n",
    "\n",
    "# Exibindo o gráfico\n",
    "plt.show()"
   ]
  },
  {
   "cell_type": "markdown",
   "metadata": {
    "id": "ALSAlH1p16GL"
   },
   "source": [
    "##### 3. Gráfico de dipersão"
   ]
  },
  {
   "cell_type": "code",
   "execution_count": null,
   "metadata": {
    "colab": {
     "base_uri": "https://localhost:8080/",
     "height": 472
    },
    "executionInfo": {
     "elapsed": 765,
     "status": "ok",
     "timestamp": 1738016448307,
     "user": {
      "displayName": "Labofis FAOC",
      "userId": "01325752558099611761"
     },
     "user_tz": 180
    },
    "id": "zQxkRD9316GM",
    "outputId": "3e2e7df9-f45e-440e-e061-39b484f59d75"
   },
   "outputs": [],
   "source": [
    "# Dados\n",
    "x = [1, 2, 3, 4, 5]\n",
    "y = [2, 3, 5, 7, 11]\n",
    "\n",
    "# Criando o gráfico de dispersão\n",
    "plt.scatter(x, y)\n",
    "\n",
    "# Adicionando título e rótulos\n",
    "plt.title('Gráfico de Dispersão')\n",
    "plt.xlabel('Eixo X')\n",
    "plt.ylabel('Eixo Y')\n",
    "\n",
    "# Exibindo o gráfico\n",
    "plt.show()"
   ]
  },
  {
   "cell_type": "markdown",
   "metadata": {
    "id": "cTvauF_R16GM"
   },
   "source": [
    "##### 4. Gráfico de pizza"
   ]
  },
  {
   "cell_type": "code",
   "execution_count": null,
   "metadata": {
    "colab": {
     "base_uri": "https://localhost:8080/",
     "height": 428
    },
    "executionInfo": {
     "elapsed": 495,
     "status": "ok",
     "timestamp": 1738016448799,
     "user": {
      "displayName": "Labofis FAOC",
      "userId": "01325752558099611761"
     },
     "user_tz": 180
    },
    "id": "TLIRRA8n16GM",
    "outputId": "f9fa62f7-76c7-448b-aed9-8b1b9f3ada83"
   },
   "outputs": [],
   "source": [
    "# Dados\n",
    "categorias = ['A', 'B', 'C', 'D']\n",
    "percentual = [40, 30, 15, 15]\n",
    "\n",
    "# Criando o gráfico de pizza\n",
    "plt.pie(percentual, labels=categorias, autopct='%1.1f%%', startangle=140)\n",
    "\n",
    "# autopct: Formato para exibir as porcentagens nos setores\n",
    "# startangle: Define a rotação inicial do gráfico\n",
    "\n",
    "# Adicionando título\n",
    "plt.title('Gráfico de Pizza')\n",
    "\n",
    "# Exibindo o gráfico\n",
    "plt.axis('equal') # Garante que o gráfico seja desenhado como um círculo\n",
    "plt.show()"
   ]
  },
  {
   "cell_type": "markdown",
   "metadata": {
    "id": "UCz_-Sat16GN"
   },
   "source": [
    "##### 5. Histograma"
   ]
  },
  {
   "cell_type": "code",
   "execution_count": null,
   "metadata": {
    "colab": {
     "base_uri": "https://localhost:8080/",
     "height": 472
    },
    "executionInfo": {
     "elapsed": 711,
     "status": "ok",
     "timestamp": 1738016449506,
     "user": {
      "displayName": "Labofis FAOC",
      "userId": "01325752558099611761"
     },
     "user_tz": 180
    },
    "id": "jX7yUKGr16GN",
    "outputId": "5bf4ae23-1fa5-4ea9-c75b-a94123ab72c8"
   },
   "outputs": [],
   "source": [
    "import numpy as np\n",
    "\n",
    "# Gerando dados aleatórios\n",
    "dados = np.random.randn(1000) # 1000 dados com distribuição normal\n",
    "\n",
    "# Criando o histograma\n",
    "plt.hist(dados, bins=30)\n",
    "\n",
    "# Adicionando título e rótulos\n",
    "plt.title('Histograma')\n",
    "plt.xlabel('Valor')\n",
    "plt.ylabel('Frequência')\n",
    "\n",
    "# Exibindo o gráfico\n",
    "plt.show()"
   ]
  },
  {
   "cell_type": "markdown",
   "metadata": {
    "id": "_o1WyhuQ16GN"
   },
   "source": [
    "### Personalizando gráficos"
   ]
  },
  {
   "cell_type": "markdown",
   "metadata": {
    "id": "iKBlsCbD16GN"
   },
   "source": [
    "É possível personalizar os gráficos ajustando diversos aspectos, como título e rótulo nos eixos, estilo de linhas e marcadores, cor, tamanho da figura e inclusão de grades para facilitar a leitura. Abaixo é apresentado um exemplo de como fazer alguns desses ajustes em um gráfico de linha."
   ]
  },
  {
   "cell_type": "code",
   "execution_count": null,
   "metadata": {
    "colab": {
     "base_uri": "https://localhost:8080/",
     "height": 488
    },
    "executionInfo": {
     "elapsed": 1017,
     "status": "ok",
     "timestamp": 1738016450520,
     "user": {
      "displayName": "Labofis FAOC",
      "userId": "01325752558099611761"
     },
     "user_tz": 180
    },
    "id": "-SPFs3EV16GO",
    "outputId": "c60e542b-1135-4e56-ca49-767ff66a64ad"
   },
   "outputs": [],
   "source": [
    "# Gráfico de Linha Personalizado\n",
    "x = [1, 2, 3, 4, 5]\n",
    "y1 = [2, 3, 5, 7, 11]\n",
    "y2 = [1, 4, 6, 9, 10]\n",
    "\n",
    "plt.figure(figsize=(7, 5)) # 7 de largura e 5 de altura\n",
    "plt.plot(x, y1, color='red', marker='o', linestyle='-.', label='Dados 1')\n",
    "plt.plot(x, y2, color='green', marker='o', linestyle='--', label='Dados 2')\n",
    "plt.title('Gráfico de Linha Personalizado', fontsize=14)\n",
    "plt.xlabel('Eixo X')\n",
    "plt.ylabel('Eixo Y')\n",
    "plt.legend() # Adiciona legenda\n",
    "plt.grid(True) # Adiciona grade\n",
    "plt.show()"
   ]
  },
  {
   "cell_type": "markdown",
   "metadata": {
    "id": "ZuyzEwpz16GO"
   },
   "source": [
    "### Salvando gráficos"
   ]
  },
  {
   "cell_type": "code",
   "execution_count": null,
   "metadata": {
    "colab": {
     "base_uri": "https://localhost:8080/",
     "height": 453
    },
    "executionInfo": {
     "elapsed": 1110,
     "status": "ok",
     "timestamp": 1738016451627,
     "user": {
      "displayName": "Labofis FAOC",
      "userId": "01325752558099611761"
     },
     "user_tz": 180
    },
    "id": "Yn27He3516GO",
    "outputId": "f98afd86-3d57-4686-c54f-4c733ce37e2e"
   },
   "outputs": [],
   "source": [
    "x = [1, 2, 3, 4, 5]\n",
    "y = [2, 3, 5, 7, 11]\n",
    "\n",
    "plt.plot(x, y)\n",
    "plt.title('Gráfico para Salvar')\n",
    "plt.savefig('grafico.png')  # Salva o gráfico como PNG\n",
    "plt.show()"
   ]
  },
  {
   "cell_type": "markdown",
   "metadata": {
    "id": "61AwIgEg16GP"
   },
   "source": [
    "### Criando gráficos a partir de um conjunto de dados -- Séries temporais"
   ]
  },
  {
   "cell_type": "markdown",
   "metadata": {
    "id": "2jNSbJ7O16GP"
   },
   "source": [
    "Primeiramente, é necessário ler e organizar o conjunto de dados."
   ]
  },
  {
   "cell_type": "code",
   "execution_count": null,
   "metadata": {
    "colab": {
     "base_uri": "https://localhost:8080/"
    },
    "executionInfo": {
     "elapsed": 2156,
     "status": "ok",
     "timestamp": 1738016453777,
     "user": {
      "displayName": "Labofis FAOC",
      "userId": "01325752558099611761"
     },
     "user_tz": 180
    },
    "id": "i2Jr3Oaw16GP",
    "outputId": "4dc72b44-04e0-4c0d-d1cd-3ddbabb615ac"
   },
   "outputs": [],
   "source": [
    "# Fazendo download de um conjunto de dados armazenado no GitHub\n",
    "!curl -LJO https://raw.githubusercontent.com/labofis/labofis_tutoriais/refs/heads/main/dados_pirata.csv\n",
    "\n",
    "import pandas as pd\n",
    "\n",
    "df_pirata = pd.read_csv('dados_pirata.csv')\n",
    "df_pirata['datetime'] = pd.to_datetime(df_pirata['datahora'], utc=True)\n",
    "df_pirata.index = df_pirata['datetime']\n",
    "df_pirata = df_pirata.drop(['Unnamed: 0', 'datahora', 'datetime'], axis=1)\n",
    "\n",
    "print(df_pirata)"
   ]
  },
  {
   "cell_type": "markdown",
   "metadata": {
    "id": "vxZc7kz-16GP"
   },
   "source": [
    "##### 1. Gráfico de série temporal simples"
   ]
  },
  {
   "cell_type": "code",
   "execution_count": null,
   "metadata": {
    "colab": {
     "base_uri": "https://localhost:8080/",
     "height": 540
    },
    "executionInfo": {
     "elapsed": 1374,
     "status": "ok",
     "timestamp": 1738016455148,
     "user": {
      "displayName": "Labofis FAOC",
      "userId": "01325752558099611761"
     },
     "user_tz": 180
    },
    "id": "Me3atPRY16GQ",
    "outputId": "71e4d8b2-2286-44a9-fbd2-27dcbf89e7aa"
   },
   "outputs": [],
   "source": [
    "# Temperatura\n",
    "plt.figure(figsize=(12, 5))\n",
    "plt.plot(df_pirata.index, df_pirata['t_1'], marker='o', color='b', label='Temperatura')\n",
    "plt.title('Série Temporal de Temperatura')\n",
    "plt.xlabel('Data')\n",
    "plt.ylabel('Temperatura (${^o}$C)')\n",
    "plt.xticks(rotation=45) # Rotaciona o rótulo do eixo x 45º\n",
    "plt.grid()\n",
    "plt.legend()\n",
    "plt.show()"
   ]
  },
  {
   "cell_type": "code",
   "execution_count": null,
   "metadata": {
    "colab": {
     "base_uri": "https://localhost:8080/",
     "height": 540
    },
    "executionInfo": {
     "elapsed": 779,
     "status": "ok",
     "timestamp": 1738016455923,
     "user": {
      "displayName": "Labofis FAOC",
      "userId": "01325752558099611761"
     },
     "user_tz": 180
    },
    "id": "o2OHO9BF16GQ",
    "outputId": "5e90d2f2-1404-4e9c-92c7-8cb463e2d760"
   },
   "outputs": [],
   "source": [
    "# Salinidade\n",
    "plt.figure(figsize=(12, 5))\n",
    "plt.plot(df_pirata.index, df_pirata['s_1'], color='r')\n",
    "plt.title('Série Temporal de Salinidade')\n",
    "plt.xlabel('Data')\n",
    "plt.ylabel('Salinidade')\n",
    "plt.xticks(rotation=45) # Rotaciona o rótulo do eixo x 45º\n",
    "plt.grid()\n",
    "plt.show()"
   ]
  },
  {
   "cell_type": "markdown",
   "metadata": {
    "id": "lTc1HOFn16GR"
   },
   "source": [
    "##### 2. Gráfico de séries temporais utilizando dois eixos y"
   ]
  },
  {
   "cell_type": "code",
   "execution_count": null,
   "metadata": {
    "colab": {
     "base_uri": "https://localhost:8080/",
     "height": 540
    },
    "executionInfo": {
     "elapsed": 1079,
     "status": "ok",
     "timestamp": 1738016456998,
     "user": {
      "displayName": "Labofis FAOC",
      "userId": "01325752558099611761"
     },
     "user_tz": 180
    },
    "id": "fqtSvp9816GR",
    "outputId": "c9e0ce98-a9b6-42cd-d75e-1994dd1f539c"
   },
   "outputs": [],
   "source": [
    "fig, ax1 = plt.subplots(figsize=(10, 5))\n",
    "\n",
    "# Série temporal de temperatura\n",
    "ax1.plot(df_pirata.index, df_pirata['t_1'], color='b')\n",
    "ax1.set_xlabel('Data')\n",
    "ax1.set_ylabel('Temperatura (${^o}$C)', color='b')\n",
    "ax1.tick_params(axis='y', labelcolor='b')\n",
    "plt.xticks(rotation=45)\n",
    "\n",
    "# Criando um segundo eixo y para a salinidade no mesmo plot\n",
    "ax2 = ax1.twinx()\n",
    "ax2.plot(df_pirata.index, df_pirata['s_1'], color='r')\n",
    "ax2.set_ylabel('Salinidade', color='r')\n",
    "ax2.tick_params(axis='y', labelcolor='r')\n",
    "\n",
    "plt.title('Séries Temporais de Temperatura e Salinidade com Dois Eixos Y')\n",
    "plt.show()"
   ]
  },
  {
   "cell_type": "markdown",
   "metadata": {
    "id": "PQgYd6dG16GR"
   },
   "source": [
    "##### 3. Gráficos de séries temporais utilizando a função `subplot`"
   ]
  },
  {
   "cell_type": "code",
   "execution_count": null,
   "metadata": {
    "colab": {
     "base_uri": "https://localhost:8080/",
     "height": 788
    },
    "executionInfo": {
     "elapsed": 1129,
     "status": "ok",
     "timestamp": 1738016458124,
     "user": {
      "displayName": "Labofis FAOC",
      "userId": "01325752558099611761"
     },
     "user_tz": 180
    },
    "id": "2vV8WVJt16GR",
    "outputId": "eed1bb70-f0b0-4e1d-c142-b5ea7b5a918a"
   },
   "outputs": [],
   "source": [
    "# Criando uma figura com dois plots, utilizando a função subplot\n",
    "fig = plt.figure(figsize=(10, 8))\n",
    "\n",
    "ax1 = fig.add_subplot(2,1,1) # 2 linhas, 1 coluna e 1ª posição\n",
    "ax2 = fig.add_subplot(2,1,2, sharex = ax1) # 2 linhas, 1 coluna e 2ª posição\n",
    "                                           # sharex = ax1 -- compartilha os limites do eixo x com o primeiro plot\n",
    "\n",
    "plt.subplots_adjust(hspace=0.2) # Ajusta a altura entre os subplots\n",
    "\n",
    "\n",
    "# Primeiro plot: Série temporal de temperatura\n",
    "ax1.plot(df_pirata.index, df_pirata['t_1'], color='b', label='Temperatura')\n",
    "ax1.set_ylabel('Temperatura (${^o}$C)')\n",
    "ax1.grid()\n",
    "ax1.legend()\n",
    "plt.setp(ax1.get_xticklabels(), visible=False) # Remove o rótulo do eixo x\n",
    "\n",
    "\n",
    "# Segundo plot: Série temporal de salinidade\n",
    "ax2.plot(df_pirata.index, df_pirata['s_1'], color='r', label='Salinidade')\n",
    "ax2.set_xlabel('Data')\n",
    "ax2.set_ylabel('Salinidade')\n",
    "ax2.grid()\n",
    "ax2.legend()\n",
    "\n",
    "fig.suptitle('Séries Temporais de Temperatura e Salinidade com Subplot', y=0.93, fontsize=12)\n",
    "plt.xticks(rotation=45)\n",
    "plt.show()"
   ]
  },
  {
   "cell_type": "markdown",
   "metadata": {
    "id": "LF3WK-ad16GR"
   },
   "source": [
    "### Criando gráficos a partir de um conjunto de dados -- Dados geoespaciais"
   ]
  },
  {
   "cell_type": "markdown",
   "metadata": {
    "id": "pQN9u0xT16GS"
   },
   "source": [
    "Primeiramente, é necessário ler e organizar o conjunto de dados."
   ]
  },
  {
   "cell_type": "code",
   "execution_count": null,
   "metadata": {
    "colab": {
     "base_uri": "https://localhost:8080/"
    },
    "executionInfo": {
     "elapsed": 5256,
     "status": "ok",
     "timestamp": 1738016463376,
     "user": {
      "displayName": "Labofis FAOC",
      "userId": "01325752558099611761"
     },
     "user_tz": 180
    },
    "id": "hOZUOiGT16GS",
    "outputId": "ffbc8e3d-4aa0-4f4e-f741-e0f593719e69"
   },
   "outputs": [],
   "source": [
    "# Fazendo download de um conjunto de dados armazenado no GitHub\n",
    "!curl -LJO https://raw.githubusercontent.com/labofis/labofis_tutoriais/refs/heads/main/dados_gebco.nc\n",
    "\n",
    "import xarray as xr\n",
    "\n",
    "ds_gebco = xr.open_dataset('dados_gebco.nc')\n",
    "\n",
    "lat=ds_gebco.lat.data\n",
    "lon=ds_gebco.lon.data\n",
    "Lon,Lat=np.meshgrid(lon,lat)\n",
    "z=ds_gebco.elevation.data\n",
    "\n",
    "print(ds_gebco)"
   ]
  },
  {
   "cell_type": "markdown",
   "metadata": {
    "id": "ZaF3bZUI16GS"
   },
   "source": [
    "##### 1. Gráficos geoespaciais utilizando as funções `contour` e `contourf`"
   ]
  },
  {
   "cell_type": "code",
   "execution_count": null,
   "metadata": {
    "colab": {
     "base_uri": "https://localhost:8080/",
     "height": 564
    },
    "executionInfo": {
     "elapsed": 4042,
     "status": "ok",
     "timestamp": 1738016467413,
     "user": {
      "displayName": "Labofis FAOC",
      "userId": "01325752558099611761"
     },
     "user_tz": 180
    },
    "id": "jU0VDRYE16GT",
    "outputId": "d01ddd44-8e0a-4da1-debc-8ac325545916"
   },
   "outputs": [],
   "source": [
    "# Plotando contorno\n",
    "plt.figure(figsize=(10, 6))\n",
    "contour = plt.contour(Lon, Lat, z, levels=15, cmap='viridis')\n",
    "plt.colorbar(contour)\n",
    "plt.title('Gráfico de Contorno')\n",
    "plt.xlabel('Longitude')\n",
    "plt.ylabel('Latitude')\n",
    "plt.show()"
   ]
  },
  {
   "cell_type": "code",
   "execution_count": null,
   "metadata": {
    "colab": {
     "base_uri": "https://localhost:8080/",
     "height": 564
    },
    "executionInfo": {
     "elapsed": 1709,
     "status": "ok",
     "timestamp": 1738016469116,
     "user": {
      "displayName": "Labofis FAOC",
      "userId": "01325752558099611761"
     },
     "user_tz": 180
    },
    "id": "U4sWJZeM16GT",
    "outputId": "8922aae9-e133-47fc-bdc2-40b98cff5836"
   },
   "outputs": [],
   "source": [
    "# Plotando contorno preenchido\n",
    "plt.figure(figsize=(10, 6))\n",
    "contourf = plt.contourf(Lon, Lat, z, levels=15, cmap='viridis')\n",
    "plt.colorbar(contourf)\n",
    "plt.title('Gráfico de Contorno Preenchido')\n",
    "plt.xlabel('Longitude')\n",
    "plt.ylabel('Latitude')\n",
    "plt.show()"
   ]
  },
  {
   "cell_type": "code",
   "execution_count": null,
   "metadata": {
    "colab": {
     "base_uri": "https://localhost:8080/",
     "height": 564
    },
    "executionInfo": {
     "elapsed": 3078,
     "status": "ok",
     "timestamp": 1738016472190,
     "user": {
      "displayName": "Labofis FAOC",
      "userId": "01325752558099611761"
     },
     "user_tz": 180
    },
    "id": "5dnVl5AL16Gb",
    "outputId": "e8fdac56-3143-42d8-e30f-93f5b47bc1dc"
   },
   "outputs": [],
   "source": [
    "# Plotando contour e contourf no mesmo gráfico\n",
    "plt.figure(figsize=(10, 6))\n",
    "\n",
    "cf = plt.contourf(Lon, Lat, z, levels=15, cmap='viridis')\n",
    "cb = plt.colorbar(cf)\n",
    "cb.set_label('Elevação (m)')\n",
    "\n",
    "cr = plt.contour(Lon, Lat, z, [-4000, -3500, -2500, -1500,-1000,-500, -200, -100], colors='dimgray', linestyles='-',\n",
    "            linewidths=0.7, alpha=0.7)\n",
    "plt.clabel(cr, fontsize=7, fmt='%1.0f')\n",
    "\n",
    "plt.title('Gráfico de Contorno e Contorno Preenchido')\n",
    "plt.xlabel('Longitude')\n",
    "plt.ylabel('Latitude')\n",
    "\n",
    "plt.show()"
   ]
  },
  {
   "cell_type": "markdown",
   "metadata": {
    "id": "yopTdEwW16Gb"
   },
   "source": [
    "### Conclusão"
   ]
  },
  {
   "cell_type": "markdown",
   "metadata": {
    "id": "Qw97BqIQ16Gc"
   },
   "source": [
    "Esses são conceitos básicos para começar a usar a biblioteca Matplotlib. Com esses exemplos, você já deve ser capaz criar diferentes tipos de gráficos. Experimente modificar os dados e as configurações dos gráficos para se familiarizar ainda mais com a biblioteca. Para mais informações, recomenda-se consultar a [documentação oficial do Matplotlib](https://matplotlib.org/stable/index.html).\n"
   ]
  }
 ],
 "metadata": {
  "colab": {
   "provenance": []
  },
  "kernelspec": {
   "display_name": "labofis",
   "language": "python",
   "name": "python3"
  },
  "language_info": {
   "codemirror_mode": {
    "name": "ipython",
    "version": 3
   },
   "file_extension": ".py",
   "mimetype": "text/x-python",
   "name": "python",
   "nbconvert_exporter": "python",
   "pygments_lexer": "ipython3",
   "version": "3.11.11"
  }
 },
 "nbformat": 4,
 "nbformat_minor": 0
}
